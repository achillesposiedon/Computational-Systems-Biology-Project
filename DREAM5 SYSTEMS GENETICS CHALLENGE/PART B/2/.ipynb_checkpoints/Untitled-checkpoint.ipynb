{
 "cells": [
  {
   "cell_type": "code",
   "execution_count": 18,
   "metadata": {},
   "outputs": [],
   "source": [
    "import pandas as pd\n",
    "import numpy as np\n",
    "import scipy.stats\n",
    "import math\n",
    "\n",
    "gold=pd.read_csv('/home/aaftab/Github/Computational-Systems-Biology-Project/DREAM5 SYSTEMS GENETICS CHALLENGE/PART B/DREAM5_SysGenB_Evaluation/GS/DREAM5_SysGenB2_TestPhenotypeData.csv', sep='\\t')\n",
    "gold.drop(gold.columns[-1],axis=1,inplace=True)"
   ]
  },
  {
   "cell_type": "code",
   "execution_count": 20,
   "metadata": {},
   "outputs": [
    {
     "name": "stdout",
     "output_type": "stream",
     "text": [
      "(-0.1301312811809933, 0.49309439341941247)\n",
      "(-0.1335120382271884, 0.48183063312125723)\n",
      "linear regression\n",
      "1.4372172661318754\n"
     ]
    }
   ],
   "source": [
    "predic1=pd.read_csv('/home/aaftab/Github/Computational-Systems-Biology-Project/DREAM5 SYSTEMS GENETICS CHALLENGE/PART B/2/LinearRegressionPredictions1.csv')\n",
    "predic2=pd.read_csv('/home/aaftab/Github/Computational-Systems-Biology-Project/DREAM5 SYSTEMS GENETICS CHALLENGE/PART B/2/LinearRegressionPredictions2.csv')\n",
    "\n",
    "\n",
    "gold1=gold.iloc[0,:]\n",
    "gold1=gold1.values\n",
    "\n",
    "gold2=gold.iloc[1,:]\n",
    "gold2=gold2.values\n",
    "\n",
    "dt1=np.transpose(gold1)\n",
    "dt11=predic1.iloc[:,1]\n",
    "\n",
    "dt2=np.transpose(gold2)\n",
    "dt22=predic2.iloc[:,1]\n",
    "\n",
    "print(scipy.stats.pearsonr(dt2, dt22))\n",
    "print(scipy.stats.pearsonr(dt1, dt11))\n",
    "print('linear regression')\n",
    "score=math.log(scipy.stats.pearsonr(dt1, dt11)[1])+math.log(scipy.stats.pearsonr(dt2, dt22)[1])\n",
    "print(-score)"
   ]
  },
  {
   "cell_type": "code",
   "execution_count": 23,
   "metadata": {},
   "outputs": [
    {
     "name": "stdout",
     "output_type": "stream",
     "text": [
      "(-0.1301312811809933, 0.49309439341941247)\n",
      "(nan, nan)\n",
      "Elasticnet regression\n",
      "nan\n"
     ]
    }
   ],
   "source": [
    "predic1=pd.read_csv('/home/aaftab/Github/Computational-Systems-Biology-Project/DREAM5 SYSTEMS GENETICS CHALLENGE/PART B/2/ElasticnetRegressionPredictions1.csv')\n",
    "predic2=pd.read_csv('/home/aaftab/Github/Computational-Systems-Biology-Project/DREAM5 SYSTEMS GENETICS CHALLENGE/PART B/2/ElasticnetRegressionPredictions2.csv')\n",
    "\n",
    "\n",
    "gold1=gold.iloc[0,:]\n",
    "gold1=gold1.values\n",
    "\n",
    "gold2=gold.iloc[1,:]\n",
    "gold2=gold2.values\n",
    "\n",
    "dt1=np.transpose(gold1)\n",
    "dt11=predic1.iloc[:,1]\n",
    "\n",
    "dt2=np.transpose(gold2)\n",
    "dt22=predic2.iloc[:,1]\n",
    "\n",
    "print(scipy.stats.pearsonr(dt2, dt22))\n",
    "print(scipy.stats.pearsonr(dt1, dt11))\n",
    "print('Elasticnet regression')\n",
    "score=math.log(scipy.stats.pearsonr(dt1, dt11)[1])+math.log(scipy.stats.pearsonr(dt2, dt22)[1])\n",
    "print(-score)"
   ]
  },
  {
   "cell_type": "code",
   "execution_count": 24,
   "metadata": {},
   "outputs": [
    {
     "name": "stdout",
     "output_type": "stream",
     "text": [
      "(-0.032320167563574816, 0.8653665567055578)\n",
      "(0.06453595855560623, 0.7347516271148913)\n",
      "Lasso regression\n",
      "0.4528248560063234\n"
     ]
    }
   ],
   "source": [
    "predic1=pd.read_csv('/home/aaftab/Github/Computational-Systems-Biology-Project/DREAM5 SYSTEMS GENETICS CHALLENGE/PART B/2/LassoRegressionPredictions1.csv')\n",
    "predic2=pd.read_csv('/home/aaftab/Github/Computational-Systems-Biology-Project/DREAM5 SYSTEMS GENETICS CHALLENGE/PART B/2/LassoRegressionPredictions2.csv')\n",
    "\n",
    "\n",
    "\n",
    "gold1=gold.iloc[0,:]\n",
    "gold1=gold1.values\n",
    "\n",
    "gold2=gold.iloc[1,:]\n",
    "gold2=gold2.values\n",
    "\n",
    "dt1=np.transpose(gold1)\n",
    "dt11=predic1.iloc[:,1]\n",
    "\n",
    "dt2=np.transpose(gold2)\n",
    "dt22=predic2.iloc[:,1]\n",
    "\n",
    "print(scipy.stats.pearsonr(dt2, dt22))\n",
    "print(scipy.stats.pearsonr(dt1, dt11))\n",
    "print('Lasso regression')\n",
    "\n",
    "score=math.log(scipy.stats.pearsonr(dt1, dt11)[1])+math.log(scipy.stats.pearsonr(dt2, dt22)[1])\n",
    "print(-score)"
   ]
  },
  {
   "cell_type": "code",
   "execution_count": 26,
   "metadata": {},
   "outputs": [
    {
     "name": "stdout",
     "output_type": "stream",
     "text": [
      "(-0.2937016021987273, 0.11519081942492831)\n",
      "(-0.4353019684911535, 0.016207372256683825)\n",
      "Decision Tree regression\n",
      "6.283454289075021\n"
     ]
    }
   ],
   "source": [
    "predic1=pd.read_csv('/home/aaftab/Github/Computational-Systems-Biology-Project/DREAM5 SYSTEMS GENETICS CHALLENGE/PART B/2/DecisionTreeRegressionPredictions1.csv')\n",
    "predic2=pd.read_csv('/home/aaftab/Github/Computational-Systems-Biology-Project/DREAM5 SYSTEMS GENETICS CHALLENGE/PART B/2/DecisionTreeRegressionPredictions2.csv')\n",
    "\n",
    "\n",
    "\n",
    "gold1=gold.iloc[0,:]\n",
    "gold1=gold1.values\n",
    "\n",
    "gold2=gold.iloc[1,:]\n",
    "gold2=gold2.values\n",
    "\n",
    "dt1=np.transpose(gold1)\n",
    "dt11=predic1.iloc[:,1]\n",
    "\n",
    "dt2=np.transpose(gold2)\n",
    "dt22=predic2.iloc[:,1]\n",
    "\n",
    "print(scipy.stats.pearsonr(dt2, dt22))\n",
    "print(scipy.stats.pearsonr(dt1, dt11))\n",
    "print('Decision Tree regression')\n",
    "score=math.log(scipy.stats.pearsonr(dt1, dt11)[1])+math.log(scipy.stats.pearsonr(dt2, dt22)[1])\n",
    "print(-score)"
   ]
  },
  {
   "cell_type": "code",
   "execution_count": 27,
   "metadata": {},
   "outputs": [
    {
     "name": "stdout",
     "output_type": "stream",
     "text": [
      "(-0.054813440727464746, 0.7735880431029332)\n",
      "(-0.5105560063071172, 0.003941937748789313)\n",
      "Random Forest regression\n",
      "5.792798653297446\n"
     ]
    }
   ],
   "source": [
    "predic1=pd.read_csv('/home/aaftab/Github/Computational-Systems-Biology-Project/DREAM5 SYSTEMS GENETICS CHALLENGE/PART B/2/RandomForestRegressionPredictions1.csv')\n",
    "predic2=pd.read_csv('/home/aaftab/Github/Computational-Systems-Biology-Project/DREAM5 SYSTEMS GENETICS CHALLENGE/PART B/2/RandomForestRegressionPredictions2.csv')\n",
    "\n",
    "\n",
    "\n",
    "gold1=gold.iloc[0,:]\n",
    "gold1=gold1.values\n",
    "\n",
    "gold2=gold.iloc[1,:]\n",
    "gold2=gold2.values\n",
    "\n",
    "dt1=np.transpose(gold1)\n",
    "dt11=predic1.iloc[:,1]\n",
    "\n",
    "dt2=np.transpose(gold2)\n",
    "dt22=predic2.iloc[:,1]\n",
    "\n",
    "print(scipy.stats.pearsonr(dt2, dt22))\n",
    "print(scipy.stats.pearsonr(dt1, dt11))\n",
    "print('Random Forest regression')\n",
    "\n",
    "score=math.log(scipy.stats.pearsonr(dt1, dt11)[1])+math.log(scipy.stats.pearsonr(dt2, dt22)[1])\n",
    "print(-score)"
   ]
  },
  {
   "cell_type": "code",
   "execution_count": 28,
   "metadata": {},
   "outputs": [
    {
     "name": "stdout",
     "output_type": "stream",
     "text": [
      "(-0.13012912446594516, 0.49310162129345797)\n",
      "(-0.1335037033256263, 0.48185823901774705)\n",
      "Ridge regression\n",
      "1.4371453159087157\n"
     ]
    }
   ],
   "source": [
    "predic1=pd.read_csv('/home/aaftab/Github/Computational-Systems-Biology-Project/DREAM5 SYSTEMS GENETICS CHALLENGE/PART B/2/RidgeRegressionPredictions1.csv')\n",
    "predic2=pd.read_csv('/home/aaftab/Github/Computational-Systems-Biology-Project/DREAM5 SYSTEMS GENETICS CHALLENGE/PART B/2/RidgeRegressionPredictions2.csv')\n",
    "\n",
    "\n",
    "\n",
    "gold1=gold.iloc[0,:]\n",
    "gold1=gold1.values\n",
    "\n",
    "gold2=gold.iloc[1,:]\n",
    "gold2=gold2.values\n",
    "\n",
    "dt1=np.transpose(gold1)\n",
    "dt11=predic1.iloc[:,1]\n",
    "\n",
    "dt2=np.transpose(gold2)\n",
    "dt22=predic2.iloc[:,1]\n",
    "\n",
    "print(scipy.stats.pearsonr(dt2, dt22))\n",
    "print(scipy.stats.pearsonr(dt1, dt11))\n",
    "print('Ridge regression')\n",
    "\n",
    "score=math.log(scipy.stats.pearsonr(dt1, dt11)[1])+math.log(scipy.stats.pearsonr(dt2, dt22)[1])\n",
    "print(-score)"
   ]
  },
  {
   "cell_type": "code",
   "execution_count": 29,
   "metadata": {},
   "outputs": [
    {
     "name": "stdout",
     "output_type": "stream",
     "text": [
      "(-0.0293388761289424, 0.877688350334223)\n",
      "(-0.23784670058124294, 0.20564167617635262)\n",
      "SVM regression\n",
      "1.7120837632245094\n"
     ]
    }
   ],
   "source": [
    "predic1=pd.read_csv('/home/aaftab/Github/Computational-Systems-Biology-Project/DREAM5 SYSTEMS GENETICS CHALLENGE/PART B/2/SVMRegressionPredictions1.csv')\n",
    "predic2=pd.read_csv('/home/aaftab/Github/Computational-Systems-Biology-Project/DREAM5 SYSTEMS GENETICS CHALLENGE/PART B/2/SVMRegressionPredictions2.csv')\n",
    "\n",
    "\n",
    "gold1=gold.iloc[0,:]\n",
    "gold1=gold1.values\n",
    "\n",
    "gold2=gold.iloc[1,:]\n",
    "gold2=gold2.values\n",
    "\n",
    "dt1=np.transpose(gold1)\n",
    "dt11=predic1.iloc[:,1]\n",
    "\n",
    "dt2=np.transpose(gold2)\n",
    "dt22=predic2.iloc[:,1]\n",
    "\n",
    "print(scipy.stats.pearsonr(dt2, dt22))\n",
    "print(scipy.stats.pearsonr(dt1, dt11))\n",
    "print('SVM regression')\n",
    "\n",
    "score=math.log(scipy.stats.pearsonr(dt1, dt11)[1])+math.log(scipy.stats.pearsonr(dt2, dt22)[1])\n",
    "print(-score)"
   ]
  },
  {
   "cell_type": "code",
   "execution_count": 30,
   "metadata": {},
   "outputs": [
    {
     "name": "stdout",
     "output_type": "stream",
     "text": [
      "(-0.008581194557715305, 0.9641035538952913)\n",
      "(-0.2254917819350285, 0.23087995062684852)\n",
      "Adaboost regression\n",
      "1.5024139668918883\n"
     ]
    }
   ],
   "source": [
    "predic1=pd.read_csv('/home/aaftab/Github/Computational-Systems-Biology-Project/DREAM5 SYSTEMS GENETICS CHALLENGE/PART B/2/AdaboostRegressionPredictions1.csv')\n",
    "predic2=pd.read_csv('/home/aaftab/Github/Computational-Systems-Biology-Project/DREAM5 SYSTEMS GENETICS CHALLENGE/PART B/2/AdaboostRegressionPredictions2.csv')\n",
    "\n",
    "\n",
    "\n",
    "gold1=gold.iloc[0,:]\n",
    "gold1=gold1.values\n",
    "\n",
    "gold2=gold.iloc[1,:]\n",
    "gold2=gold2.values\n",
    "\n",
    "dt1=np.transpose(gold1)\n",
    "dt11=predic1.iloc[:,1]\n",
    "\n",
    "dt2=np.transpose(gold2)\n",
    "dt22=predic2.iloc[:,1]\n",
    "\n",
    "print(scipy.stats.pearsonr(dt2, dt22))\n",
    "print(scipy.stats.pearsonr(dt1, dt11))\n",
    "print('Adaboost regression')\n",
    "\n",
    "score=math.log(scipy.stats.pearsonr(dt1, dt11)[1])+math.log(scipy.stats.pearsonr(dt2, dt22)[1])\n",
    "print(-score)"
   ]
  },
  {
   "cell_type": "code",
   "execution_count": 31,
   "metadata": {},
   "outputs": [
    {
     "name": "stdout",
     "output_type": "stream",
     "text": [
      "(-0.1535462558784776, 0.41788705636162926)\n",
      "(-0.3034167514295516, 0.10311146654589788)\n",
      "Bagging regression\n",
      "3.1444887594932824\n"
     ]
    }
   ],
   "source": [
    "predic1=pd.read_csv('/home/aaftab/Github/Computational-Systems-Biology-Project/DREAM5 SYSTEMS GENETICS CHALLENGE/PART B/2/baggingRegressionPredictions1.csv')\n",
    "predic2=pd.read_csv('/home/aaftab/Github/Computational-Systems-Biology-Project/DREAM5 SYSTEMS GENETICS CHALLENGE/PART B/2/BaggingRegressionPredictions2.csv')\n",
    "\n",
    "\n",
    "\n",
    "gold1=gold.iloc[0,:]\n",
    "gold1=gold1.values\n",
    "\n",
    "gold2=gold.iloc[1,:]\n",
    "gold2=gold2.values\n",
    "\n",
    "dt1=np.transpose(gold1)\n",
    "dt11=predic1.iloc[:,1]\n",
    "\n",
    "dt2=np.transpose(gold2)\n",
    "dt22=predic2.iloc[:,1]\n",
    "\n",
    "print(scipy.stats.pearsonr(dt2, dt22))\n",
    "print(scipy.stats.pearsonr(dt1, dt11))\n",
    "print('Bagging regression')\n",
    "\n",
    "score=math.log(scipy.stats.pearsonr(dt1, dt11)[1])+math.log(scipy.stats.pearsonr(dt2, dt22)[1])\n",
    "print(-score)"
   ]
  },
  {
   "cell_type": "code",
   "execution_count": 32,
   "metadata": {},
   "outputs": [
    {
     "name": "stdout",
     "output_type": "stream",
     "text": [
      "(-0.11977120642626793, 0.5284233462945457)\n",
      "(-0.5014780376515524, 0.004754868275159704)\n",
      "GBM regression\n",
      "5.986443810068452\n"
     ]
    }
   ],
   "source": [
    "predic1=pd.read_csv('/home/aaftab/Github/Computational-Systems-Biology-Project/DREAM5 SYSTEMS GENETICS CHALLENGE/PART B/2/GBMRegressionPredictions1.csv')\n",
    "predic2=pd.read_csv('/home/aaftab/Github/Computational-Systems-Biology-Project/DREAM5 SYSTEMS GENETICS CHALLENGE/PART B/2/GBMRegressionPredictions2.csv')\n",
    "\n",
    "\n",
    "\n",
    "gold1=gold.iloc[0,:]\n",
    "gold1=gold1.values\n",
    "\n",
    "gold2=gold.iloc[1,:]\n",
    "gold2=gold2.values\n",
    "\n",
    "dt1=np.transpose(gold1)\n",
    "dt11=predic1.iloc[:,1]\n",
    "\n",
    "dt2=np.transpose(gold2)\n",
    "dt22=predic2.iloc[:,1]\n",
    "\n",
    "print(scipy.stats.pearsonr(dt2, dt22))\n",
    "print(scipy.stats.pearsonr(dt1, dt11))\n",
    "print('GBM regression')\n",
    "\n",
    "score=math.log(scipy.stats.pearsonr(dt1, dt11)[1])+math.log(scipy.stats.pearsonr(dt2, dt22)[1])\n",
    "print(-score)"
   ]
  },
  {
   "cell_type": "code",
   "execution_count": 33,
   "metadata": {},
   "outputs": [
    {
     "name": "stdout",
     "output_type": "stream",
     "text": [
      "(-0.15617478783557331, 0.4098646033155232)\n",
      "(-0.36476603465552915, 0.0474907491956239)\n",
      "Voting regression\n",
      "3.939148750324295\n"
     ]
    }
   ],
   "source": [
    "predic1=pd.read_csv('/home/aaftab/Github/Computational-Systems-Biology-Project/DREAM5 SYSTEMS GENETICS CHALLENGE/PART B/2/VotingRegressionPredictions1.csv')\n",
    "predic2=pd.read_csv('/home/aaftab/Github/Computational-Systems-Biology-Project/DREAM5 SYSTEMS GENETICS CHALLENGE/PART B/2/VotingRegressionPredictions2.csv')\n",
    "\n",
    "\n",
    "\n",
    "gold1=gold.iloc[0,:]\n",
    "gold1=gold1.values\n",
    "\n",
    "gold2=gold.iloc[1,:]\n",
    "gold2=gold2.values\n",
    "\n",
    "dt1=np.transpose(gold1)\n",
    "dt11=predic1.iloc[:,1]\n",
    "\n",
    "dt2=np.transpose(gold2)\n",
    "dt22=predic2.iloc[:,1]\n",
    "\n",
    "print(scipy.stats.pearsonr(dt2, dt22))\n",
    "print(scipy.stats.pearsonr(dt1, dt11))\n",
    "print('Voting regression')\n",
    "\n",
    "score=math.log(scipy.stats.pearsonr(dt1, dt11)[1])+math.log(scipy.stats.pearsonr(dt2, dt22)[1])\n",
    "print(-score)"
   ]
  },
  {
   "cell_type": "code",
   "execution_count": 35,
   "metadata": {},
   "outputs": [
    {
     "name": "stdout",
     "output_type": "stream",
     "text": [
      "(-0.14355860592465505, 0.4491548431055537)\n",
      "(-0.49237384243312665, 0.00570998961183595)\n",
      "GBM Voting regression\n",
      "5.965925663149765\n"
     ]
    }
   ],
   "source": [
    "predic1=pd.read_csv('/home/aaftab/Github/Computational-Systems-Biology-Project/DREAM5 SYSTEMS GENETICS CHALLENGE/PART B/2/GBMVotingRegressionPredictions1.csv')\n",
    "predic2=pd.read_csv('/home/aaftab/Github/Computational-Systems-Biology-Project/DREAM5 SYSTEMS GENETICS CHALLENGE/PART B/2/GBMVotingRegressionPredictions2.csv')\n",
    "\n",
    "\n",
    "\n",
    "gold1=gold.iloc[0,:]\n",
    "gold1=gold1.values\n",
    "\n",
    "gold2=gold.iloc[1,:]\n",
    "gold2=gold2.values\n",
    "\n",
    "dt1=np.transpose(gold1)\n",
    "dt11=predic1.iloc[:,1]\n",
    "\n",
    "dt2=np.transpose(gold2)\n",
    "dt22=predic2.iloc[:,1]\n",
    "\n",
    "print(scipy.stats.pearsonr(dt2, dt22))\n",
    "print(scipy.stats.pearsonr(dt1, dt11))\n",
    "print('GBM Voting regression')\n",
    "\n",
    "score=math.log(scipy.stats.pearsonr(dt1, dt11)[1])+math.log(scipy.stats.pearsonr(dt2, dt22)[1])\n",
    "print(-score)"
   ]
  },
  {
   "cell_type": "code",
   "execution_count": null,
   "metadata": {},
   "outputs": [],
   "source": []
  }
 ],
 "metadata": {
  "kernelspec": {
   "display_name": "Python 3",
   "language": "python",
   "name": "python3"
  },
  "language_info": {
   "codemirror_mode": {
    "name": "ipython",
    "version": 3
   },
   "file_extension": ".py",
   "mimetype": "text/x-python",
   "name": "python",
   "nbconvert_exporter": "python",
   "pygments_lexer": "ipython3",
   "version": "3.7.4"
  }
 },
 "nbformat": 4,
 "nbformat_minor": 4
}
