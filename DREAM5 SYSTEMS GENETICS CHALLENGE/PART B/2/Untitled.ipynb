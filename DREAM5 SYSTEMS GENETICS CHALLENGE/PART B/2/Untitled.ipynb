{
 "cells": [
  {
   "cell_type": "code",
   "execution_count": 1,
   "metadata": {},
   "outputs": [],
   "source": [
    "import pandas as pd\n",
    "import numpy as np\n",
    "\n",
    "gold=pd.read_csv('/home/aaftab/Github/Computational-Systems-Biology-Project/DREAM5 SYSTEMS GENETICS CHALLENGE/PART B/DREAM5_SysGenB_GoldStandard/DREAM5_SysGenB1_GoldStandard.csv', sep='\\t')\n",
    "gold.drop(gold.columns[-1],axis=1,inplace=True)"
   ]
  },
  {
   "cell_type": "markdown",
   "metadata": {},
   "source": [
    "0.2549237836423919 Linear Regression Training error 1\n",
    "3.8965702968337306 Linear Regression Training error 2\n",
    "\n",
    "0.26764415007802544 Lasso Regression Training error 1\n",
    "3.7600761010551973 Lasso Regression Training error 2\n",
    "\n",
    "0.5421991658207035 Decision Tree Regression Training error 1\n",
    "5.029230584791275 Decision Tree Regression Training error 2\n",
    "\n",
    "0.293407012202207 Random Forest Regression Training error 1\n",
    "3.5621259937595853 Random Forest Regression Training error 2\n",
    "\n",
    "0.2549222654908268 Ridge Regression Training error 1\n",
    "3.89654796737724 Ridge Regression Training error 2\n",
    "\n",
    "0.2589022015772089 SVM Regression Training error 1\n",
    "3.5174681883313847 SVM Regression Training error 2\n",
    "\n",
    "0.26450978082970367 Adaboost Regression Training error 1\n",
    "3.7099703308281855 Adaboost Regression Training error 2\n",
    "\n",
    "0.30135287771230357 Bagging Regression Training error 1\n",
    "3.4341685246806697 Bagging Regression Training error 2\n",
    "\n",
    "0.3540644584923013 GBM Regression Training error 1\n",
    "3.5791422912813027 GBM Regression Training error 2\n",
    "\n",
    "0.2667843542045397 Voting Regression Training error 1\n",
    "3.7545447831385093 Voting Regression Training error 2\n",
    "\n",
    "0.35717494435328445 GBMVoting Regression Training error 1\n",
    "3.5511005726206766 GBMVoting Regression Training error 2\n",
    "\n",
    "0.26776440588385403 Elasticnet Regression Training error 1\n",
    "3.8965702968337306 Elasticnet Regression Training error 2\n"
   ]
  },
  {
   "cell_type": "code",
   "execution_count": 17,
   "metadata": {},
   "outputs": [
    {
     "name": "stdout",
     "output_type": "stream",
     "text": [
      "12.14510756679306 Linear Regression Training error 1\n",
      "19.62360176784854 Linear Regression Training error 2\n"
     ]
    }
   ],
   "source": [
    "predic1=pd.read_csv('/home/aaftab/Github/Computational-Systems-Biology-Project/DREAM5 SYSTEMS GENETICS CHALLENGE/PART B/2/LinearRegressionPredictions1.csv')\n",
    "predic2=pd.read_csv('/home/aaftab/Github/Computational-Systems-Biology-Project/DREAM5 SYSTEMS GENETICS CHALLENGE/PART B/2/LinearRegressionPredictions2.csv')\n",
    "\n",
    "\n",
    "import math\n",
    "from math import sqrt\n",
    "from sklearn.metrics import mean_squared_error\n",
    "\n",
    "y_pred1=predic1.iloc[:,1]\n",
    "y_pred2=predic2.iloc[:,1]\n",
    "\n",
    "gold1=gold.iloc[0,:]\n",
    "gold1=gold1.values\n",
    "\n",
    "\n",
    "gold2=gold.iloc[1,:]\n",
    "gold2=gold2.values\n",
    "\n",
    "mse1=mean_squared_error(y_pred1, np.transpose(gold1))\n",
    "rmse1=sqrt(mse1)\n",
    "gold1mean=gold1.mean()\n",
    "gold2mean=gold2.mean()\n",
    "rmse1=rmse1/gold1mean*100\n",
    "\n",
    "print(str(rmse1)+' Linear Regression Training error 1')\n",
    "\n",
    "mse2=mean_squared_error(y_pred2,np.transpose(gold2))\n",
    "rmse2=sqrt(mse2)\n",
    "\n",
    "rmse2=rmse2/gold2mean*100\n",
    "print(str(rmse2)+' Linear Regression Training error 2')"
   ]
  },
  {
   "cell_type": "code",
   "execution_count": 18,
   "metadata": {},
   "outputs": [
    {
     "name": "stdout",
     "output_type": "stream",
     "text": [
      "12.756861935565029 Elasticnet Regression Training error 1\n",
      "19.62360176784854 Elasticnet Regression Training error 2\n"
     ]
    }
   ],
   "source": [
    "predic1=pd.read_csv('/home/aaftab/Github/Computational-Systems-Biology-Project/DREAM5 SYSTEMS GENETICS CHALLENGE/PART B/2/ElasticnetRegressionPredictions1.csv')\n",
    "predic2=pd.read_csv('/home/aaftab/Github/Computational-Systems-Biology-Project/DREAM5 SYSTEMS GENETICS CHALLENGE/PART B/2/ElasticnetRegressionPredictions2.csv')\n",
    "\n",
    "\n",
    "import math\n",
    "from math import sqrt\n",
    "from sklearn.metrics import mean_squared_error\n",
    "\n",
    "y_pred1=predic1.iloc[:,1]\n",
    "y_pred2=predic2.iloc[:,1]\n",
    "\n",
    "gold1=gold.iloc[0,:]\n",
    "gold1=gold1.values\n",
    "\n",
    "gold2=gold.iloc[1,:]\n",
    "gold2=gold2.values\n",
    "\n",
    "mse1=mean_squared_error(y_pred1, np.transpose(gold1))\n",
    "rmse1=sqrt(mse1)\n",
    "\n",
    "gold1mean=gold1.mean()\n",
    "gold2mean=gold2.mean()\n",
    "rmse1=rmse1/gold1mean*100\n",
    "print(str(rmse1)+' Elasticnet Regression Training error 1')\n",
    "\n",
    "mse2=mean_squared_error(y_pred2,np.transpose(gold2))\n",
    "rmse2=sqrt(mse2)\n",
    "rmse2=rmse2/gold2mean*100\n",
    "print(str(rmse2)+' Elasticnet Regression Training error 2')"
   ]
  },
  {
   "cell_type": "code",
   "execution_count": 19,
   "metadata": {},
   "outputs": [
    {
     "name": "stdout",
     "output_type": "stream",
     "text": [
      "12.751132694940825 Lasso Regression Training error 1\n",
      "18.936200402664088 Lasso Regression Training error 2\n"
     ]
    }
   ],
   "source": [
    "predic1=pd.read_csv('/home/aaftab/Github/Computational-Systems-Biology-Project/DREAM5 SYSTEMS GENETICS CHALLENGE/PART B/2/LassoRegressionPredictions1.csv')\n",
    "predic2=pd.read_csv('/home/aaftab/Github/Computational-Systems-Biology-Project/DREAM5 SYSTEMS GENETICS CHALLENGE/PART B/2/LassoRegressionPredictions2.csv')\n",
    "\n",
    "\n",
    "import math\n",
    "from math import sqrt\n",
    "from sklearn.metrics import mean_squared_error\n",
    "\n",
    "y_pred1=predic1.iloc[:,1]\n",
    "y_pred2=predic2.iloc[:,1]\n",
    "\n",
    "gold1=gold.iloc[0,:]\n",
    "gold1=gold1.values\n",
    "\n",
    "gold2=gold.iloc[1,:]\n",
    "gold2=gold2.values\n",
    "\n",
    "mse1=mean_squared_error(y_pred1, np.transpose(gold1))\n",
    "rmse1=sqrt(mse1)\n",
    "\n",
    "gold1mean=gold1.mean()\n",
    "gold2mean=gold2.mean()\n",
    "rmse1=rmse1/gold1mean*100\n",
    "\n",
    "print(str(rmse1)+' Lasso Regression Training error 1')\n",
    "\n",
    "mse2=mean_squared_error(y_pred2,np.transpose(gold2))\n",
    "rmse2=sqrt(mse2)\n",
    "rmse2=rmse2/gold2mean*100\n",
    "print(str(rmse2)+' Lasso Regression Training error 2')"
   ]
  },
  {
   "cell_type": "code",
   "execution_count": 20,
   "metadata": {},
   "outputs": [
    {
     "name": "stdout",
     "output_type": "stream",
     "text": [
      "25.831513629012626 Decision Tree Regression Training error 1\n",
      "25.327816689159366 Decision Tree Regression Training error 2\n"
     ]
    }
   ],
   "source": [
    "predic1=pd.read_csv('/home/aaftab/Github/Computational-Systems-Biology-Project/DREAM5 SYSTEMS GENETICS CHALLENGE/PART B/2/DecisionTreeRegressionPredictions1.csv')\n",
    "predic2=pd.read_csv('/home/aaftab/Github/Computational-Systems-Biology-Project/DREAM5 SYSTEMS GENETICS CHALLENGE/PART B/2/DecisionTreeRegressionPredictions2.csv')\n",
    "\n",
    "\n",
    "import math\n",
    "from math import sqrt\n",
    "from sklearn.metrics import mean_squared_error\n",
    "\n",
    "y_pred1=predic1.iloc[:,1]\n",
    "y_pred2=predic2.iloc[:,1]\n",
    "\n",
    "gold1=gold.iloc[0,:]\n",
    "gold1=gold1.values\n",
    "\n",
    "gold2=gold.iloc[1,:]\n",
    "gold2=gold2.values\n",
    "\n",
    "mse1=mean_squared_error(y_pred1, np.transpose(gold1))\n",
    "rmse1=sqrt(mse1)\n",
    "\n",
    "gold1mean=gold1.mean()\n",
    "gold2mean=gold2.mean()\n",
    "rmse1=rmse1/gold1mean*100\n",
    "\n",
    "print(str(rmse1)+' Decision Tree Regression Training error 1')\n",
    "\n",
    "mse2=mean_squared_error(y_pred2,np.transpose(gold2))\n",
    "rmse2=sqrt(mse2)\n",
    "rmse2=rmse2/gold2mean*100\n",
    "print(str(rmse2)+' Decision Tree Regression Training error 2')"
   ]
  },
  {
   "cell_type": "code",
   "execution_count": 21,
   "metadata": {},
   "outputs": [
    {
     "name": "stdout",
     "output_type": "stream",
     "text": [
      "13.978529869327547 Random Forest Regression Training error 1\n",
      "17.939299595144092 Random Forest Regression Training error 2\n"
     ]
    }
   ],
   "source": [
    "predic1=pd.read_csv('/home/aaftab/Github/Computational-Systems-Biology-Project/DREAM5 SYSTEMS GENETICS CHALLENGE/PART B/2/RandomForestRegressionPredictions1.csv')\n",
    "predic2=pd.read_csv('/home/aaftab/Github/Computational-Systems-Biology-Project/DREAM5 SYSTEMS GENETICS CHALLENGE/PART B/2/RandomForestRegressionPredictions2.csv')\n",
    "\n",
    "\n",
    "import math\n",
    "from math import sqrt\n",
    "from sklearn.metrics import mean_squared_error\n",
    "\n",
    "y_pred1=predic1.iloc[:,1]\n",
    "y_pred2=predic2.iloc[:,1]\n",
    "\n",
    "gold1=gold.iloc[0,:]\n",
    "gold1=gold1.values\n",
    "\n",
    "gold2=gold.iloc[1,:]\n",
    "gold2=gold2.values\n",
    "\n",
    "mse1=mean_squared_error(y_pred1, np.transpose(gold1))\n",
    "rmse1=sqrt(mse1)\n",
    "\n",
    "gold1mean=gold1.mean()\n",
    "gold2mean=gold2.mean()\n",
    "rmse1=rmse1/gold1mean*100\n",
    "print(str(rmse1)+' Random Forest Regression Training error 1')\n",
    "\n",
    "mse2=mean_squared_error(y_pred2,np.transpose(gold2))\n",
    "rmse2=sqrt(mse2)\n",
    "rmse2=rmse2/gold2mean*100\n",
    "print(str(rmse2)+' Random Forest Regression Training error 2')"
   ]
  },
  {
   "cell_type": "code",
   "execution_count": 22,
   "metadata": {},
   "outputs": [
    {
     "name": "stdout",
     "output_type": "stream",
     "text": [
      "12.145035238845479 Ridge Regression Training error 1\n",
      "19.623489313990795 Ridge Regression Training error 2\n"
     ]
    }
   ],
   "source": [
    "predic1=pd.read_csv('/home/aaftab/Github/Computational-Systems-Biology-Project/DREAM5 SYSTEMS GENETICS CHALLENGE/PART B/2/RidgeRegressionPredictions1.csv')\n",
    "predic2=pd.read_csv('/home/aaftab/Github/Computational-Systems-Biology-Project/DREAM5 SYSTEMS GENETICS CHALLENGE/PART B/2/RidgeRegressionPredictions2.csv')\n",
    "\n",
    "\n",
    "import math\n",
    "from math import sqrt\n",
    "from sklearn.metrics import mean_squared_error\n",
    "\n",
    "y_pred1=predic1.iloc[:,1]\n",
    "y_pred2=predic2.iloc[:,1]\n",
    "\n",
    "gold1=gold.iloc[0,:]\n",
    "gold1=gold1.values\n",
    "\n",
    "gold2=gold.iloc[1,:]\n",
    "gold2=gold2.values\n",
    "\n",
    "mse1=mean_squared_error(y_pred1, np.transpose(gold1))\n",
    "rmse1=sqrt(mse1)\n",
    "\n",
    "gold1mean=gold1.mean()\n",
    "gold2mean=gold2.mean()\n",
    "rmse1=rmse1/gold1mean*100\n",
    "print(str(rmse1)+' Ridge Regression Training error 1')\n",
    "\n",
    "mse2=mean_squared_error(y_pred2,np.transpose(gold2))\n",
    "rmse2=sqrt(mse2)\n",
    "rmse2=rmse2/gold2mean*100\n",
    "print(str(rmse2)+' Ridge Regression Training error 2')"
   ]
  },
  {
   "cell_type": "code",
   "execution_count": 23,
   "metadata": {},
   "outputs": [
    {
     "name": "stdout",
     "output_type": "stream",
     "text": [
      "12.334647801421745 SVM Regression Training error 1\n",
      "17.714397457420265 SVM Regression Training error 2\n"
     ]
    }
   ],
   "source": [
    "predic1=pd.read_csv('/home/aaftab/Github/Computational-Systems-Biology-Project/DREAM5 SYSTEMS GENETICS CHALLENGE/PART B/2/SVMRegressionPredictions1.csv')\n",
    "predic2=pd.read_csv('/home/aaftab/Github/Computational-Systems-Biology-Project/DREAM5 SYSTEMS GENETICS CHALLENGE/PART B/2/SVMRegressionPredictions2.csv')\n",
    "\n",
    "\n",
    "import math\n",
    "from math import sqrt\n",
    "from sklearn.metrics import mean_squared_error\n",
    "\n",
    "y_pred1=predic1.iloc[:,1]\n",
    "y_pred2=predic2.iloc[:,1]\n",
    "\n",
    "gold1=gold.iloc[0,:]\n",
    "gold1=gold1.values\n",
    "\n",
    "gold2=gold.iloc[1,:]\n",
    "gold2=gold2.values\n",
    "\n",
    "mse1=mean_squared_error(y_pred1, np.transpose(gold1))\n",
    "rmse1=sqrt(mse1)\n",
    "\n",
    "gold1mean=gold1.mean()\n",
    "gold2mean=gold2.mean()\n",
    "rmse1=rmse1/gold1mean*100\n",
    "print(str(rmse1)+' SVM Regression Training error 1')\n",
    "\n",
    "mse2=mean_squared_error(y_pred2,np.transpose(gold2))\n",
    "rmse2=sqrt(mse2)\n",
    "rmse2=rmse2/gold2mean*100\n",
    "print(str(rmse2)+' SVM Regression Training error 2')"
   ]
  },
  {
   "cell_type": "code",
   "execution_count": 24,
   "metadata": {},
   "outputs": [
    {
     "name": "stdout",
     "output_type": "stream",
     "text": [
      "12.601804722748488 Adaboost Regression Training error 1\n",
      "18.683861651838736 Adaboost Regression Training error 2\n"
     ]
    }
   ],
   "source": [
    "predic1=pd.read_csv('/home/aaftab/Github/Computational-Systems-Biology-Project/DREAM5 SYSTEMS GENETICS CHALLENGE/PART B/2/AdaboostRegressionPredictions1.csv')\n",
    "predic2=pd.read_csv('/home/aaftab/Github/Computational-Systems-Biology-Project/DREAM5 SYSTEMS GENETICS CHALLENGE/PART B/2/AdaboostRegressionPredictions2.csv')\n",
    "\n",
    "\n",
    "import math\n",
    "from math import sqrt\n",
    "from sklearn.metrics import mean_squared_error\n",
    "\n",
    "y_pred1=predic1.iloc[:,1]\n",
    "y_pred2=predic2.iloc[:,1]\n",
    "\n",
    "gold1=gold.iloc[0,:]\n",
    "gold1=gold1.values\n",
    "\n",
    "gold2=gold.iloc[1,:]\n",
    "gold2=gold2.values\n",
    "\n",
    "mse1=mean_squared_error(y_pred1, np.transpose(gold1))\n",
    "rmse1=sqrt(mse1)\n",
    "\n",
    "gold1mean=gold1.mean()\n",
    "gold2mean=gold2.mean()\n",
    "rmse1=rmse1/gold1mean*100\n",
    "print(str(rmse1)+' Adaboost Regression Training error 1')\n",
    "\n",
    "mse2=mean_squared_error(y_pred2,np.transpose(gold2))\n",
    "rmse2=sqrt(mse2)\n",
    "rmse2=rmse2/gold2mean*100\n",
    "print(str(rmse2)+' Adaboost Regression Training error 2')"
   ]
  },
  {
   "cell_type": "code",
   "execution_count": 25,
   "metadata": {},
   "outputs": [
    {
     "name": "stdout",
     "output_type": "stream",
     "text": [
      "14.357087687482203 Bagging Regression Training error 1\n",
      "17.294890223531624 Bagging Regression Training error 2\n"
     ]
    }
   ],
   "source": [
    "predic1=pd.read_csv('/home/aaftab/Github/Computational-Systems-Biology-Project/DREAM5 SYSTEMS GENETICS CHALLENGE/PART B/2/baggingRegressionPredictions1.csv')\n",
    "predic2=pd.read_csv('/home/aaftab/Github/Computational-Systems-Biology-Project/DREAM5 SYSTEMS GENETICS CHALLENGE/PART B/2/BaggingRegressionPredictions2.csv')\n",
    "\n",
    "\n",
    "import math\n",
    "from math import sqrt\n",
    "from sklearn.metrics import mean_squared_error\n",
    "\n",
    "y_pred1=predic1.iloc[:,1]\n",
    "y_pred2=predic2.iloc[:,1]\n",
    "\n",
    "gold1=gold.iloc[0,:]\n",
    "gold1=gold1.values\n",
    "\n",
    "gold2=gold.iloc[1,:]\n",
    "gold2=gold2.values\n",
    "\n",
    "mse1=mean_squared_error(y_pred1, np.transpose(gold1))\n",
    "rmse1=sqrt(mse1)\n",
    "\n",
    "gold1mean=gold1.mean()\n",
    "gold2mean=gold2.mean()\n",
    "rmse1=rmse1/gold1mean*100\n",
    "print(str(rmse1)+' Bagging Regression Training error 1')\n",
    "\n",
    "mse2=mean_squared_error(y_pred2,np.transpose(gold2))\n",
    "rmse2=sqrt(mse2)\n",
    "rmse2=rmse2/gold2mean*100\n",
    "print(str(rmse2)+' Bagging Regression Training error 2')"
   ]
  },
  {
   "cell_type": "code",
   "execution_count": 26,
   "metadata": {},
   "outputs": [
    {
     "name": "stdout",
     "output_type": "stream",
     "text": [
      "16.86837874648685 GBM Regression Training error 1\n",
      "18.02499573833975 GBM Regression Training error 2\n"
     ]
    }
   ],
   "source": [
    "predic1=pd.read_csv('/home/aaftab/Github/Computational-Systems-Biology-Project/DREAM5 SYSTEMS GENETICS CHALLENGE/PART B/2/GBMRegressionPredictions1.csv')\n",
    "predic2=pd.read_csv('/home/aaftab/Github/Computational-Systems-Biology-Project/DREAM5 SYSTEMS GENETICS CHALLENGE/PART B/2/GBMRegressionPredictions2.csv')\n",
    "\n",
    "\n",
    "import math\n",
    "from math import sqrt\n",
    "from sklearn.metrics import mean_squared_error\n",
    "\n",
    "y_pred1=predic1.iloc[:,1]\n",
    "y_pred2=predic2.iloc[:,1]\n",
    "\n",
    "gold1=gold.iloc[0,:]\n",
    "gold1=gold1.values\n",
    "\n",
    "gold2=gold.iloc[1,:]\n",
    "gold2=gold2.values\n",
    "\n",
    "mse1=mean_squared_error(y_pred1, np.transpose(gold1))\n",
    "rmse1=sqrt(mse1)\n",
    "\n",
    "gold1mean=gold1.mean()\n",
    "gold2mean=gold2.mean()\n",
    "rmse1=rmse1/gold1mean*100\n",
    "\n",
    "print(str(rmse1)+' GBM Regression Training error 1')\n",
    "\n",
    "mse2=mean_squared_error(y_pred2,np.transpose(gold2))\n",
    "rmse2=sqrt(mse2)\n",
    "rmse2=rmse2/gold2mean*100\n",
    "print(str(rmse2)+' GBM Regression Training error 2')"
   ]
  },
  {
   "cell_type": "code",
   "execution_count": 27,
   "metadata": {},
   "outputs": [
    {
     "name": "stdout",
     "output_type": "stream",
     "text": [
      "12.710170203251083 Voting Regression Training error 1\n",
      "18.908344013126694 Voting Regression Training error 2\n"
     ]
    }
   ],
   "source": [
    "predic1=pd.read_csv('/home/aaftab/Github/Computational-Systems-Biology-Project/DREAM5 SYSTEMS GENETICS CHALLENGE/PART B/2/VotingRegressionPredictions1.csv')\n",
    "predic2=pd.read_csv('/home/aaftab/Github/Computational-Systems-Biology-Project/DREAM5 SYSTEMS GENETICS CHALLENGE/PART B/2/VotingRegressionPredictions2.csv')\n",
    "\n",
    "\n",
    "import math\n",
    "from math import sqrt\n",
    "from sklearn.metrics import mean_squared_error\n",
    "\n",
    "y_pred1=predic1.iloc[:,1]\n",
    "y_pred2=predic2.iloc[:,1]\n",
    "\n",
    "gold1=gold.iloc[0,:]\n",
    "gold1=gold1.values\n",
    "\n",
    "gold2=gold.iloc[1,:]\n",
    "gold2=gold2.values\n",
    "\n",
    "mse1=mean_squared_error(y_pred1, np.transpose(gold1))\n",
    "rmse1=sqrt(mse1)\n",
    "\n",
    "gold1mean=gold1.mean()\n",
    "gold2mean=gold2.mean()\n",
    "rmse1=rmse1/gold1mean*100\n",
    "print(str(rmse1)+' Voting Regression Training error 1')\n",
    "\n",
    "mse2=mean_squared_error(y_pred2,np.transpose(gold2))\n",
    "rmse2=sqrt(mse2)\n",
    "rmse2=rmse2/gold2mean*100\n",
    "print(str(rmse2)+' Voting Regression Training error 2')"
   ]
  },
  {
   "cell_type": "code",
   "execution_count": 28,
   "metadata": {},
   "outputs": [
    {
     "name": "stdout",
     "output_type": "stream",
     "text": [
      "17.016568863653887 GBMVoting Regression Training error 1\n",
      "17.883774233795275 GBMVoting Regression Training error 2\n"
     ]
    }
   ],
   "source": [
    "predic1=pd.read_csv('/home/aaftab/Github/Computational-Systems-Biology-Project/DREAM5 SYSTEMS GENETICS CHALLENGE/PART B/2/GBMVotingRegressionPredictions1.csv')\n",
    "predic2=pd.read_csv('/home/aaftab/Github/Computational-Systems-Biology-Project/DREAM5 SYSTEMS GENETICS CHALLENGE/PART B/2/GBMVotingRegressionPredictions2.csv')\n",
    "\n",
    "\n",
    "import math\n",
    "from math import sqrt\n",
    "from sklearn.metrics import mean_squared_error\n",
    "\n",
    "y_pred1=predic1.iloc[:,1]\n",
    "y_pred2=predic2.iloc[:,1]\n",
    "\n",
    "gold1=gold.iloc[0,:]\n",
    "gold1=gold1.values\n",
    "\n",
    "gold2=gold.iloc[1,:]\n",
    "gold2=gold2.values\n",
    "\n",
    "mse1=mean_squared_error(y_pred1, np.transpose(gold1))\n",
    "rmse1=sqrt(mse1)\n",
    "\n",
    "gold1mean=gold1.mean()\n",
    "gold2mean=gold2.mean()\n",
    "rmse1=rmse1/gold1mean*100\n",
    "print(str(rmse1)+' GBMVoting Regression Training error 1')\n",
    "\n",
    "mse2=mean_squared_error(y_pred2,np.transpose(gold2))\n",
    "rmse2=sqrt(mse2)\n",
    "rmse2=rmse2/gold2mean*100\n",
    "print(str(rmse2)+' GBMVoting Regression Training error 2')"
   ]
  },
  {
   "cell_type": "code",
   "execution_count": null,
   "metadata": {},
   "outputs": [],
   "source": []
  }
 ],
 "metadata": {
  "kernelspec": {
   "display_name": "Python 3",
   "language": "python",
   "name": "python3"
  },
  "language_info": {
   "codemirror_mode": {
    "name": "ipython",
    "version": 3
   },
   "file_extension": ".py",
   "mimetype": "text/x-python",
   "name": "python",
   "nbconvert_exporter": "python",
   "pygments_lexer": "ipython3",
   "version": "3.7.4"
  }
 },
 "nbformat": 4,
 "nbformat_minor": 4
}
