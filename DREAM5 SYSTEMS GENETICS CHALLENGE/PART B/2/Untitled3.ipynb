{
 "cells": [
  {
   "cell_type": "code",
   "execution_count": 2,
   "metadata": {},
   "outputs": [
    {
     "name": "stdout",
     "output_type": "stream",
     "text": [
      "          Real1     Pred1     Real2     Pred2\n",
      "Real1  1.000000 -0.035426 -0.767664 -0.096656\n",
      "Pred1 -0.035426  1.000000  0.124750  0.255207\n",
      "Real2 -0.767664  0.124750  1.000000  0.192780\n",
      "Pred2 -0.096656  0.255207  0.192780  1.000000\n"
     ]
    }
   ],
   "source": [
    "import pandas as pd\n",
    "import numpy as np \n",
    "dt=pd.read_csv('/home/aaftab/Github/Computational-Systems-Biology-Project/DREAM5 SYSTEMS GENETICS CHALLENGE/PART B/CatboostRegressionPredictions1.csv')\n",
    "\n",
    "print(dt.corr())"
   ]
  },
  {
   "cell_type": "code",
   "execution_count": null,
   "metadata": {},
   "outputs": [],
   "source": []
  }
 ],
 "metadata": {
  "kernelspec": {
   "display_name": "Python 3",
   "language": "python",
   "name": "python3"
  },
  "language_info": {
   "codemirror_mode": {
    "name": "ipython",
    "version": 3
   },
   "file_extension": ".py",
   "mimetype": "text/x-python",
   "name": "python",
   "nbconvert_exporter": "python",
   "pygments_lexer": "ipython3",
   "version": "3.7.4"
  }
 },
 "nbformat": 4,
 "nbformat_minor": 4
}
