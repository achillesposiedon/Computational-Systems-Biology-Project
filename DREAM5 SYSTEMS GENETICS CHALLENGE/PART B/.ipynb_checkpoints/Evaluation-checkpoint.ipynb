{
 "cells": [
  {
   "cell_type": "code",
   "execution_count": 40,
   "metadata": {},
   "outputs": [],
   "source": [
    "import pandas as pd\n",
    "import numpy as np\n",
    "import scipy.stats\n",
    "import math\n",
    "\n",
    "gold=pd.read_csv('/home/aaftab/Github/Computational-Systems-Biology-Project/DREAM5 SYSTEMS GENETICS CHALLENGE/PART B/DREAM5_SysGenB_Evaluation/GS/DREAM5_SysGenB2_TestPhenotypeData.csv', sep='\\t')\n",
    "gold.drop(gold.columns[-1],axis=1,inplace=True)"
   ]
  },
  {
   "cell_type": "code",
   "execution_count": 41,
   "metadata": {},
   "outputs": [
    {
     "name": "stdout",
     "output_type": "stream",
     "text": [
      "(-0.20175471517804353, 0.28500513572833036)\n",
      "(0.16380729201036573, 0.38706642645614864)\n",
      "linear regression\n",
      "2.2044070348685127\n"
     ]
    }
   ],
   "source": [
    "predic1=pd.read_csv('/home/aaftab/Github/Computational-Systems-Biology-Project/DREAM5 SYSTEMS GENETICS CHALLENGE/PART B/LinearRegressionPredictions1.csv')\n",
    "predic2=pd.read_csv('/home/aaftab/Github/Computational-Systems-Biology-Project/DREAM5 SYSTEMS GENETICS CHALLENGE/PART B/LinearRegressionPredictions2.csv')\n",
    "\n",
    "gold1=gold.iloc[0,:]\n",
    "gold1=gold1.values\n",
    "\n",
    "gold2=gold.iloc[1,:]\n",
    "gold2=gold2.values\n",
    "\n",
    "dt1=np.transpose(gold1)\n",
    "dt11=predic1.iloc[:,1]\n",
    "\n",
    "dt2=np.transpose(gold2)\n",
    "dt22=predic2.iloc[:,1]\n",
    "\n",
    "print(scipy.stats.pearsonr(dt2, dt22))\n",
    "print(scipy.stats.pearsonr(dt1, dt11))\n",
    "print('linear regression')\n",
    "score=math.log(scipy.stats.pearsonr(dt1, dt11)[1])+math.log(scipy.stats.pearsonr(dt2, dt22)[1])\n",
    "print(-score)"
   ]
  },
  {
   "cell_type": "code",
   "execution_count": 42,
   "metadata": {},
   "outputs": [
    {
     "name": "stdout",
     "output_type": "stream",
     "text": [
      "(-0.20175471517804353, 0.28500513572833036)\n",
      "(nan, nan)\n",
      "ElasticNet regression\n",
      "nan\n"
     ]
    }
   ],
   "source": [
    "predic1=pd.read_csv('/home/aaftab/Github/Computational-Systems-Biology-Project/DREAM5 SYSTEMS GENETICS CHALLENGE/PART B/ElasticnetRegressionPredictions1.csv')\n",
    "predic2=pd.read_csv('/home/aaftab/Github/Computational-Systems-Biology-Project/DREAM5 SYSTEMS GENETICS CHALLENGE/PART B/ElasticnetRegressionPredictions2.csv')\n",
    "\n",
    "\n",
    "gold1=gold.iloc[0,:]\n",
    "gold1=gold1.values\n",
    "\n",
    "gold2=gold.iloc[1,:]\n",
    "gold2=gold2.values\n",
    "\n",
    "dt1=np.transpose(gold1)\n",
    "dt11=predic1.iloc[:,1]\n",
    "\n",
    "dt2=np.transpose(gold2)\n",
    "dt22=predic2.iloc[:,1]\n",
    "\n",
    "print(scipy.stats.pearsonr(dt2, dt22))\n",
    "print(scipy.stats.pearsonr(dt1, dt11))\n",
    "print('ElasticNet regression')\n",
    "\n",
    "score=math.log(scipy.stats.pearsonr(dt1, dt11)[1])+math.log(scipy.stats.pearsonr(dt2, dt22)[1])\n",
    "print(-score)"
   ]
  },
  {
   "cell_type": "code",
   "execution_count": 43,
   "metadata": {},
   "outputs": [
    {
     "name": "stdout",
     "output_type": "stream",
     "text": [
      "(-0.09939685210551807, 0.6012645176336595)\n",
      "(nan, nan)\n",
      "lasso regression\n",
      "nan\n"
     ]
    }
   ],
   "source": [
    "predic1=pd.read_csv('/home/aaftab/Github/Computational-Systems-Biology-Project/DREAM5 SYSTEMS GENETICS CHALLENGE/PART B/LassoRegressionPredictions1.csv')\n",
    "predic2=pd.read_csv('/home/aaftab/Github/Computational-Systems-Biology-Project/DREAM5 SYSTEMS GENETICS CHALLENGE/PART B/LassoRegressionPredictions2.csv')\n",
    "\n",
    "gold1=gold.iloc[0,:]\n",
    "gold1=gold1.values\n",
    "\n",
    "gold2=gold.iloc[1,:]\n",
    "gold2=gold2.values\n",
    "\n",
    "dt1=np.transpose(gold1)\n",
    "dt11=predic1.iloc[:,1]\n",
    "\n",
    "dt2=np.transpose(gold2)\n",
    "dt22=predic2.iloc[:,1]\n",
    "\n",
    "print(scipy.stats.pearsonr(dt2, dt22))\n",
    "print(scipy.stats.pearsonr(dt1, dt11))\n",
    "print('lasso regression')\n",
    "\n",
    "score=math.log(scipy.stats.pearsonr(dt1, dt11)[1])+math.log(scipy.stats.pearsonr(dt2, dt22)[1])\n",
    "print(-score)"
   ]
  },
  {
   "cell_type": "code",
   "execution_count": 44,
   "metadata": {},
   "outputs": [
    {
     "name": "stdout",
     "output_type": "stream",
     "text": [
      "(0.07451290403706344, 0.6955555872084991)\n",
      "(-0.02998962675948577, 0.8749962803923792)\n",
      "Decision Tree regression\n",
      "0.4965799903304826\n"
     ]
    }
   ],
   "source": [
    "predic1=pd.read_csv('/home/aaftab/Github/Computational-Systems-Biology-Project/DREAM5 SYSTEMS GENETICS CHALLENGE/PART B/DecisionTreeRegressionPredictions1.csv')\n",
    "predic2=pd.read_csv('/home/aaftab/Github/Computational-Systems-Biology-Project/DREAM5 SYSTEMS GENETICS CHALLENGE/PART B/DecisionTreeRegressionPredictions2.csv')\n",
    "\n",
    "gold1=gold.iloc[0,:]\n",
    "gold1=gold1.values\n",
    "\n",
    "gold2=gold.iloc[1,:]\n",
    "gold2=gold2.values\n",
    "\n",
    "dt1=np.transpose(gold1)\n",
    "dt11=predic1.iloc[:,1]\n",
    "\n",
    "dt2=np.transpose(gold2)\n",
    "dt22=predic2.iloc[:,1]\n",
    "\n",
    "print(scipy.stats.pearsonr(dt2, dt22))\n",
    "print(scipy.stats.pearsonr(dt1, dt11))\n",
    "print('Decision Tree regression')\n",
    "\n",
    "score=math.log(scipy.stats.pearsonr(dt1, dt11)[1])+math.log(scipy.stats.pearsonr(dt2, dt22)[1])\n",
    "print(-score)"
   ]
  },
  {
   "cell_type": "code",
   "execution_count": 45,
   "metadata": {},
   "outputs": [
    {
     "name": "stdout",
     "output_type": "stream",
     "text": [
      "(-0.05719632921782787, 0.7640159420098984)\n",
      "(-0.040896072758955196, 0.8301037112523478)\n",
      "Random Forest regression\n",
      "0.45537125620964347\n"
     ]
    }
   ],
   "source": [
    "predic1=pd.read_csv('/home/aaftab/Github/Computational-Systems-Biology-Project/DREAM5 SYSTEMS GENETICS CHALLENGE/PART B/RandomForestRegressionPredictions1.csv')\n",
    "predic2=pd.read_csv('/home/aaftab/Github/Computational-Systems-Biology-Project/DREAM5 SYSTEMS GENETICS CHALLENGE/PART B/RandomForestRegressionPredictions2.csv')\n",
    "\n",
    "gold1=gold.iloc[0,:]\n",
    "gold1=gold1.values\n",
    "\n",
    "gold2=gold.iloc[1,:]\n",
    "gold2=gold2.values\n",
    "\n",
    "dt1=np.transpose(gold1)\n",
    "dt11=predic1.iloc[:,1]\n",
    "\n",
    "dt2=np.transpose(gold2)\n",
    "dt22=predic2.iloc[:,1]\n",
    "\n",
    "print(scipy.stats.pearsonr(dt2, dt22))\n",
    "print(scipy.stats.pearsonr(dt1, dt11))\n",
    "print('Random Forest regression')\n",
    "\n",
    "score=math.log(scipy.stats.pearsonr(dt1, dt11)[1])+math.log(scipy.stats.pearsonr(dt2, dt22)[1])\n",
    "print(-score)"
   ]
  },
  {
   "cell_type": "code",
   "execution_count": 46,
   "metadata": {},
   "outputs": [
    {
     "name": "stdout",
     "output_type": "stream",
     "text": [
      "(-0.19934601957317735, 0.29091603565655594)\n",
      "(0.16355289660650707, 0.3878143032036697)\n",
      "ridge regression\n",
      "2.1819492446231603\n"
     ]
    }
   ],
   "source": [
    "predic1=pd.read_csv('/home/aaftab/Github/Computational-Systems-Biology-Project/DREAM5 SYSTEMS GENETICS CHALLENGE/PART B/RidgeRegressionPredictions1.csv')\n",
    "predic2=pd.read_csv('/home/aaftab/Github/Computational-Systems-Biology-Project/DREAM5 SYSTEMS GENETICS CHALLENGE/PART B/RidgeRegressionPredictions2.csv')\n",
    "\n",
    "gold1=gold.iloc[0,:]\n",
    "gold1=gold1.values\n",
    "\n",
    "gold2=gold.iloc[1,:]\n",
    "gold2=gold2.values\n",
    "\n",
    "dt1=np.transpose(gold1)\n",
    "dt11=predic1.iloc[:,1]\n",
    "\n",
    "dt2=np.transpose(gold2)\n",
    "dt22=predic2.iloc[:,1]\n",
    "\n",
    "print(scipy.stats.pearsonr(dt2, dt22))\n",
    "print(scipy.stats.pearsonr(dt1, dt11))\n",
    "print('ridge regression')\n",
    "score=math.log(scipy.stats.pearsonr(dt1, dt11)[1])+math.log(scipy.stats.pearsonr(dt2, dt22)[1])\n",
    "print(-score)"
   ]
  },
  {
   "cell_type": "code",
   "execution_count": 47,
   "metadata": {},
   "outputs": [
    {
     "name": "stdout",
     "output_type": "stream",
     "text": [
      "(-0.08755164748570589, 0.6454811335233052)\n",
      "(-0.048637102335094176, 0.7985472532898211)\n",
      "SVM regression\n",
      "0.6627204323246874\n"
     ]
    }
   ],
   "source": [
    "predic1=pd.read_csv('/home/aaftab/Github/Computational-Systems-Biology-Project/DREAM5 SYSTEMS GENETICS CHALLENGE/PART B/SVMRegressionPredictions1.csv')\n",
    "predic2=pd.read_csv('/home/aaftab/Github/Computational-Systems-Biology-Project/DREAM5 SYSTEMS GENETICS CHALLENGE/PART B/SVMRegressionPredictions2.csv')\n",
    "\n",
    "gold1=gold.iloc[0,:]\n",
    "gold1=gold1.values\n",
    "\n",
    "gold2=gold.iloc[1,:]\n",
    "gold2=gold2.values\n",
    "\n",
    "dt1=np.transpose(gold1)\n",
    "dt11=predic1.iloc[:,1]\n",
    "\n",
    "dt2=np.transpose(gold2)\n",
    "dt22=predic2.iloc[:,1]\n",
    "\n",
    "print(scipy.stats.pearsonr(dt2, dt22))\n",
    "print(scipy.stats.pearsonr(dt1, dt11))\n",
    "print('SVM regression')\n",
    "score=math.log(scipy.stats.pearsonr(dt1, dt11)[1])+math.log(scipy.stats.pearsonr(dt2, dt22)[1])\n",
    "print(-score)"
   ]
  },
  {
   "cell_type": "code",
   "execution_count": 48,
   "metadata": {},
   "outputs": [
    {
     "name": "stdout",
     "output_type": "stream",
     "text": [
      "(0.04541317771389034, 0.8116548691340784)\n",
      "(0.04724545562496767, 0.804198955744616)\n",
      "Ada Boost regression\n",
      "0.42658865020883785\n"
     ]
    }
   ],
   "source": [
    "predic1=pd.read_csv('/home/aaftab/Github/Computational-Systems-Biology-Project/DREAM5 SYSTEMS GENETICS CHALLENGE/PART B/AdaboostRegressionPredictions1.csv')\n",
    "predic2=pd.read_csv('/home/aaftab/Github/Computational-Systems-Biology-Project/DREAM5 SYSTEMS GENETICS CHALLENGE/PART B/AdaboostRegressionPredictions2.csv')\n",
    "\n",
    "gold1=gold.iloc[0,:]\n",
    "gold1=gold1.values\n",
    "\n",
    "gold2=gold.iloc[1,:]\n",
    "gold2=gold2.values\n",
    "\n",
    "dt1=np.transpose(gold1)\n",
    "dt11=predic1.iloc[:,1]\n",
    "\n",
    "dt2=np.transpose(gold2)\n",
    "dt22=predic2.iloc[:,1]\n",
    "\n",
    "print(scipy.stats.pearsonr(dt2, dt22))\n",
    "print(scipy.stats.pearsonr(dt1, dt11))\n",
    "print('Ada Boost regression')\n",
    "score=math.log(scipy.stats.pearsonr(dt1, dt11)[1])+math.log(scipy.stats.pearsonr(dt2, dt22)[1])\n",
    "print(-score)"
   ]
  },
  {
   "cell_type": "code",
   "execution_count": 49,
   "metadata": {},
   "outputs": [
    {
     "name": "stdout",
     "output_type": "stream",
     "text": [
      "(-0.20795237876961026, 0.2701516199655676)\n",
      "(0.09016274339289557, 0.6356249596295853)\n",
      "Bagging regression\n",
      "1.7619184978612388\n"
     ]
    }
   ],
   "source": [
    "predic1=pd.read_csv('/home/aaftab/Github/Computational-Systems-Biology-Project/DREAM5 SYSTEMS GENETICS CHALLENGE/PART B/baggingRegressionPredictions1.csv')\n",
    "predic2=pd.read_csv('/home/aaftab/Github/Computational-Systems-Biology-Project/DREAM5 SYSTEMS GENETICS CHALLENGE/PART B/BaggingRegressionPredictions2.csv')\n",
    "\n",
    "gold1=gold.iloc[0,:]\n",
    "gold1=gold1.values\n",
    "\n",
    "gold2=gold.iloc[1,:]\n",
    "gold2=gold2.values\n",
    "\n",
    "dt1=np.transpose(gold1)\n",
    "dt11=predic1.iloc[:,1]\n",
    "\n",
    "dt2=np.transpose(gold2)\n",
    "dt22=predic2.iloc[:,1]\n",
    "\n",
    "print(scipy.stats.pearsonr(dt2, dt22))\n",
    "print(scipy.stats.pearsonr(dt1, dt11))\n",
    "print('Bagging regression')\n",
    "\n",
    "score=math.log(scipy.stats.pearsonr(dt1, dt11)[1])+math.log(scipy.stats.pearsonr(dt2, dt22)[1])\n",
    "print(-score)"
   ]
  },
  {
   "cell_type": "code",
   "execution_count": 50,
   "metadata": {},
   "outputs": [
    {
     "name": "stdout",
     "output_type": "stream",
     "text": [
      "(-0.1962536873261863, 0.29861795945293534)\n",
      "(0.08763828404543668, 0.6451531464963098)\n",
      "GBM regression\n",
      "1.6468578041050397\n"
     ]
    }
   ],
   "source": [
    "predic1=pd.read_csv('/home/aaftab/Github/Computational-Systems-Biology-Project/DREAM5 SYSTEMS GENETICS CHALLENGE/PART B/GBMRegressionPredictions1.csv')\n",
    "predic2=pd.read_csv('/home/aaftab/Github/Computational-Systems-Biology-Project/DREAM5 SYSTEMS GENETICS CHALLENGE/PART B/GBMRegressionPredictions2.csv')\n",
    "\n",
    "\n",
    "gold1=gold.iloc[0,:]\n",
    "gold1=gold1.values\n",
    "\n",
    "gold2=gold.iloc[1,:]\n",
    "gold2=gold2.values\n",
    "\n",
    "dt1=np.transpose(gold1)\n",
    "dt11=predic1.iloc[:,1]\n",
    "\n",
    "dt2=np.transpose(gold2)\n",
    "dt22=predic2.iloc[:,1]\n",
    "\n",
    "print(scipy.stats.pearsonr(dt2, dt22))\n",
    "print(scipy.stats.pearsonr(dt1, dt11))\n",
    "print('GBM regression')\n",
    "\n",
    "score=math.log(scipy.stats.pearsonr(dt1, dt11)[1])+math.log(scipy.stats.pearsonr(dt2, dt22)[1])\n",
    "print(-score)"
   ]
  },
  {
   "cell_type": "code",
   "execution_count": 51,
   "metadata": {},
   "outputs": [
    {
     "name": "stdout",
     "output_type": "stream",
     "text": [
      "(0.06866803942236432, 0.7184322246198784)\n",
      "(-0.043227035857416454, 0.8205718455106326)\n",
      "Voting regression\n",
      "0.528437716104597\n"
     ]
    }
   ],
   "source": [
    "predic1=pd.read_csv('/home/aaftab/Github/Computational-Systems-Biology-Project/DREAM5 SYSTEMS GENETICS CHALLENGE/PART B/VotingRegressionPredictions1.csv')\n",
    "predic2=pd.read_csv('/home/aaftab/Github/Computational-Systems-Biology-Project/DREAM5 SYSTEMS GENETICS CHALLENGE/PART B/VotingRegressionPredictions2.csv')\n",
    "\n",
    "\n",
    "gold1=gold.iloc[0,:]\n",
    "gold1=gold1.values\n",
    "\n",
    "gold2=gold.iloc[1,:]\n",
    "gold2=gold2.values\n",
    "\n",
    "dt1=np.transpose(gold1)\n",
    "dt11=predic1.iloc[:,1]\n",
    "\n",
    "dt2=np.transpose(gold2)\n",
    "dt22=predic2.iloc[:,1]\n",
    "\n",
    "print(scipy.stats.pearsonr(dt2, dt22))\n",
    "print(scipy.stats.pearsonr(dt1, dt11))\n",
    "print('Voting regression')\n",
    "\n",
    "score=math.log(scipy.stats.pearsonr(dt1, dt11)[1])+math.log(scipy.stats.pearsonr(dt2, dt22)[1])\n",
    "print(-score)"
   ]
  },
  {
   "cell_type": "code",
   "execution_count": 52,
   "metadata": {},
   "outputs": [
    {
     "name": "stdout",
     "output_type": "stream",
     "text": [
      "(-0.19592816491479964, 0.2994361374682104)\n",
      "(0.07971301576463521, 0.6754196722682728)\n",
      "GBM Voting regression\n",
      "1.5982751592676547\n"
     ]
    }
   ],
   "source": [
    "predic1=pd.read_csv('/home/aaftab/Github/Computational-Systems-Biology-Project/DREAM5 SYSTEMS GENETICS CHALLENGE/PART B/GBMVotingRegressionPredictions1.csv')\n",
    "predic2=pd.read_csv('/home/aaftab/Github/Computational-Systems-Biology-Project/DREAM5 SYSTEMS GENETICS CHALLENGE/PART B/GBMVotingRegressionPredictions2.csv')\n",
    "\n",
    "\n",
    "gold1=gold.iloc[0,:]\n",
    "gold1=gold1.values\n",
    "\n",
    "gold2=gold.iloc[1,:]\n",
    "gold2=gold2.values\n",
    "\n",
    "dt1=np.transpose(gold1)\n",
    "dt11=predic1.iloc[:,1]\n",
    "\n",
    "dt2=np.transpose(gold2)\n",
    "dt22=predic2.iloc[:,1]\n",
    "\n",
    "print(scipy.stats.pearsonr(dt2, dt22))\n",
    "print(scipy.stats.pearsonr(dt1, dt11))\n",
    "print('GBM Voting regression')\n",
    "score=math.log(scipy.stats.pearsonr(dt1, dt11)[1])+math.log(scipy.stats.pearsonr(dt2, dt22)[1])\n",
    "print(-score)"
   ]
  },
  {
   "cell_type": "code",
   "execution_count": 53,
   "metadata": {},
   "outputs": [
    {
     "name": "stdout",
     "output_type": "stream",
     "text": [
      "(0.11141573329164235, 0.5577757451571546)\n",
      "(0.14976914801679458, 0.42956664802146394)\n",
      "Catboost regression\n",
      "1.428776661540361\n"
     ]
    }
   ],
   "source": [
    "predic1=pd.read_csv('/home/aaftab/Github/Computational-Systems-Biology-Project/DREAM5 SYSTEMS GENETICS CHALLENGE/PART B/CatboostRegressionPredictions1.csv')\n",
    "predic2=pd.read_csv('/home/aaftab/Github/Computational-Systems-Biology-Project/DREAM5 SYSTEMS GENETICS CHALLENGE/PART B/CatboostRegressionPredictions2.csv')\n",
    "\n",
    "\n",
    "gold1=gold.iloc[0,:]\n",
    "gold1=gold1.values\n",
    "\n",
    "gold2=gold.iloc[1,:]\n",
    "gold2=gold2.values\n",
    "\n",
    "dt1=np.transpose(gold1)\n",
    "dt11=predic1.iloc[:,1]\n",
    "\n",
    "dt2=np.transpose(gold2)\n",
    "dt22=predic2.iloc[:,1]\n",
    "\n",
    "print(scipy.stats.pearsonr(dt2, dt22))\n",
    "print(scipy.stats.pearsonr(dt1, dt11))\n",
    "print('Catboost regression')\n",
    "\n",
    "score=math.log(scipy.stats.pearsonr(dt1, dt11)[1])+math.log(scipy.stats.pearsonr(dt2, dt22)[1])\n",
    "print(-score)"
   ]
  },
  {
   "cell_type": "code",
   "execution_count": null,
   "metadata": {},
   "outputs": [],
   "source": []
  },
  {
   "cell_type": "code",
   "execution_count": null,
   "metadata": {},
   "outputs": [],
   "source": []
  }
 ],
 "metadata": {
  "kernelspec": {
   "display_name": "Python 3",
   "language": "python",
   "name": "python3"
  },
  "language_info": {
   "codemirror_mode": {
    "name": "ipython",
    "version": 3
   },
   "file_extension": ".py",
   "mimetype": "text/x-python",
   "name": "python",
   "nbconvert_exporter": "python",
   "pygments_lexer": "ipython3",
   "version": "3.7.4"
  }
 },
 "nbformat": 4,
 "nbformat_minor": 4
}
