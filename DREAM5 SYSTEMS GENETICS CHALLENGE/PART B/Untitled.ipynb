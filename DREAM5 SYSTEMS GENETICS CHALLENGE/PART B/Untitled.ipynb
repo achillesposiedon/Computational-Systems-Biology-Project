{
 "cells": [
  {
   "cell_type": "code",
   "execution_count": 1,
   "metadata": {},
   "outputs": [],
   "source": [
    "import pandas as pd\n",
    "import numpy as np\n",
    "\n",
    "gold=pd.read_csv('/home/aaftab/Github/Computational-Systems-Biology-Project/DREAM5 SYSTEMS GENETICS CHALLENGE/PART B/DREAM5_SysGenB_GoldStandard/DREAM5_SysGenB1_GoldStandard.csv', sep='\\t')\n",
    "gold.drop(gold.columns[-1],axis=1,inplace=True)"
   ]
  },
  {
   "cell_type": "markdown",
   "metadata": {},
   "source": [
    "0.5009995137090918Linear Regression Training error 1\n",
    "5.424376668837783Linear Regression Training error 2\n",
    "\n",
    "0.26776440588385403 Lasso Regression Training error 1\n",
    "4.654275289878664 Lasso Regression Training error 2\n",
    "\n",
    "0.5378482127887012 Decision Tree Regression Training error 1\n",
    "5.1357010151163065 Decision Tree Regression Training error 2\n",
    "\n",
    "0.304960566536215 Random Forest Regression Training error 1\n",
    "3.7434179043465194 Random Forest Regression Training error 2\n",
    "\n",
    "0.5000922368602647 Ridge Regression Training error 1\n",
    "5.4223808005093534 Ridge Regression Training error 2\n",
    "\n",
    "0.2832656550342472 SVM Regression Training error 1\n",
    "3.5849000751353532 SVM Regression Training error 2\n",
    "\n",
    "0.27531133138592767 Adaboost Regression Training error 1\n",
    "4.2478496483732595 Adaboost Regression Training error 2\n",
    "\n",
    "0.31384589898576837 Bagging Regression Training error 1\n",
    "4.019800395821912 Bagging Regression Training error 2\n",
    "\n",
    "0.3423677338383204 GBM Regression Training error 1\n",
    "3.9575216224286285 GBM Regression Training error 2\n",
    "\n",
    "0.3074440808092632 Voting Regression Training error 1\n",
    "4.182632494255263 Voting Regression Training error 2\n",
    "\n",
    "0.33864775856390933 GBMVoting Regression Training error 1\n",
    "3.953568872975451 GBMVoting Regression Training error 2\n",
    "\n",
    "0.2860115002273201 Catboost Regression Training error 1\n",
    "3.615603936047755 Catboost Regression Training error 2"
   ]
  },
  {
   "cell_type": "code",
   "execution_count": 3,
   "metadata": {},
   "outputs": [
    {
     "name": "stdout",
     "output_type": "stream",
     "text": [
      "0.5009995137090918Linear Regression Training error 1\n",
      "5.424376668837783Linear Regression Training error 2\n"
     ]
    }
   ],
   "source": [
    "predic1=pd.read_csv('/home/aaftab/Github/Computational-Systems-Biology-Project/DREAM5 SYSTEMS GENETICS CHALLENGE/PART B/LinearRegressionPredictions1.csv')\n",
    "predic2=pd.read_csv('/home/aaftab/Github/Computational-Systems-Biology-Project/DREAM5 SYSTEMS GENETICS CHALLENGE/PART B/LinearRegressionPredictions2.csv')\n",
    "\n",
    "\n",
    "import math\n",
    "from math import sqrt\n",
    "from sklearn.metrics import mean_squared_error\n",
    "\n",
    "y_pred1=predic1.iloc[:,1]\n",
    "y_pred2=predic2.iloc[:,1]\n",
    "\n",
    "gold1=gold.iloc[0,:]\n",
    "gold1=gold1.values\n",
    "\n",
    "gold2=gold.iloc[1,:]\n",
    "gold2=gold2.values\n",
    "\n",
    "mse1=mean_squared_error(y_pred1, np.transpose(gold1))\n",
    "rmse1=sqrt(mse1)\n",
    "print(str(rmse1)+' Linear Regression Training error 1')\n",
    "\n",
    "mse2=mean_squared_error(y_pred2,np.transpose(gold2))\n",
    "rmse2=sqrt(mse2)\n",
    "print(str(rmse2)+' Linear Regression Training error 2')"
   ]
  },
  {
   "cell_type": "code",
   "execution_count": 4,
   "metadata": {},
   "outputs": [
    {
     "name": "stdout",
     "output_type": "stream",
     "text": [
      "0.26776440588385403 Lasso Regression Training error 1\n",
      "4.654275289878664 Lasso Regression Training error 2\n"
     ]
    }
   ],
   "source": [
    "predic1=pd.read_csv('/home/aaftab/Github/Computational-Systems-Biology-Project/DREAM5 SYSTEMS GENETICS CHALLENGE/PART B/LassoRegressionPredictions1.csv')\n",
    "predic2=pd.read_csv('/home/aaftab/Github/Computational-Systems-Biology-Project/DREAM5 SYSTEMS GENETICS CHALLENGE/PART B/LassoRegressionPredictions2.csv')\n",
    "\n",
    "\n",
    "import math\n",
    "from math import sqrt\n",
    "from sklearn.metrics import mean_squared_error\n",
    "\n",
    "y_pred1=predic1.iloc[:,1]\n",
    "y_pred2=predic2.iloc[:,1]\n",
    "\n",
    "gold1=gold.iloc[0,:]\n",
    "gold1=gold1.values\n",
    "\n",
    "gold2=gold.iloc[1,:]\n",
    "gold2=gold2.values\n",
    "\n",
    "mse1=mean_squared_error(y_pred1, np.transpose(gold1))\n",
    "rmse1=sqrt(mse1)\n",
    "print(str(rmse1)+' Lasso Regression Training error 1')\n",
    "\n",
    "mse2=mean_squared_error(y_pred2,np.transpose(gold2))\n",
    "rmse2=sqrt(mse2)\n",
    "print(str(rmse2)+' Lasso Regression Training error 2')"
   ]
  },
  {
   "cell_type": "code",
   "execution_count": 6,
   "metadata": {},
   "outputs": [
    {
     "name": "stdout",
     "output_type": "stream",
     "text": [
      "0.5378482127887012 Decision Tree Regression Training error 1\n",
      "5.1357010151163065 Decision Tree Regression Training error 2\n"
     ]
    }
   ],
   "source": [
    "predic1=pd.read_csv('/home/aaftab/Github/Computational-Systems-Biology-Project/DREAM5 SYSTEMS GENETICS CHALLENGE/PART B/DecisionTreeRegressionPredictions1.csv')\n",
    "predic2=pd.read_csv('/home/aaftab/Github/Computational-Systems-Biology-Project/DREAM5 SYSTEMS GENETICS CHALLENGE/PART B/DecisionTreeRegressionPredictions2.csv')\n",
    "\n",
    "\n",
    "import math\n",
    "from math import sqrt\n",
    "from sklearn.metrics import mean_squared_error\n",
    "\n",
    "y_pred1=predic1.iloc[:,1]\n",
    "y_pred2=predic2.iloc[:,1]\n",
    "\n",
    "gold1=gold.iloc[0,:]\n",
    "gold1=gold1.values\n",
    "\n",
    "gold2=gold.iloc[1,:]\n",
    "gold2=gold2.values\n",
    "\n",
    "mse1=mean_squared_error(y_pred1, np.transpose(gold1))\n",
    "rmse1=sqrt(mse1)\n",
    "print(str(rmse1)+' Decision Tree Regression Training error 1')\n",
    "\n",
    "mse2=mean_squared_error(y_pred2,np.transpose(gold2))\n",
    "rmse2=sqrt(mse2)\n",
    "print(str(rmse2)+' Decision Tree Regression Training error 2')"
   ]
  },
  {
   "cell_type": "code",
   "execution_count": 7,
   "metadata": {},
   "outputs": [
    {
     "name": "stdout",
     "output_type": "stream",
     "text": [
      "0.304960566536215 Random Forest Regression Training error 1\n",
      "3.7434179043465194 Random Forest Regression Training error 2\n"
     ]
    }
   ],
   "source": [
    "predic1=pd.read_csv('/home/aaftab/Github/Computational-Systems-Biology-Project/DREAM5 SYSTEMS GENETICS CHALLENGE/PART B/RandomForestRegressionPredictions1.csv')\n",
    "predic2=pd.read_csv('/home/aaftab/Github/Computational-Systems-Biology-Project/DREAM5 SYSTEMS GENETICS CHALLENGE/PART B/RandomForestRegressionPredictions2.csv')\n",
    "\n",
    "\n",
    "import math\n",
    "from math import sqrt\n",
    "from sklearn.metrics import mean_squared_error\n",
    "\n",
    "y_pred1=predic1.iloc[:,1]\n",
    "y_pred2=predic2.iloc[:,1]\n",
    "\n",
    "gold1=gold.iloc[0,:]\n",
    "gold1=gold1.values\n",
    "\n",
    "gold2=gold.iloc[1,:]\n",
    "gold2=gold2.values\n",
    "\n",
    "mse1=mean_squared_error(y_pred1, np.transpose(gold1))\n",
    "rmse1=sqrt(mse1)\n",
    "print(str(rmse1)+' Random Forest Regression Training error 1')\n",
    "\n",
    "mse2=mean_squared_error(y_pred2,np.transpose(gold2))\n",
    "rmse2=sqrt(mse2)\n",
    "print(str(rmse2)+' Random Forest Regression Training error 2')"
   ]
  },
  {
   "cell_type": "code",
   "execution_count": 8,
   "metadata": {},
   "outputs": [
    {
     "name": "stdout",
     "output_type": "stream",
     "text": [
      "0.5000922368602647 Ridge Regression Training error 1\n",
      "5.4223808005093534 Ridge Regression Training error 2\n"
     ]
    }
   ],
   "source": [
    "predic1=pd.read_csv('/home/aaftab/Github/Computational-Systems-Biology-Project/DREAM5 SYSTEMS GENETICS CHALLENGE/PART B/RidgeRegressionPredictions1.csv')\n",
    "predic2=pd.read_csv('/home/aaftab/Github/Computational-Systems-Biology-Project/DREAM5 SYSTEMS GENETICS CHALLENGE/PART B/RidgeRegressionPredictions2.csv')\n",
    "\n",
    "\n",
    "import math\n",
    "from math import sqrt\n",
    "from sklearn.metrics import mean_squared_error\n",
    "\n",
    "y_pred1=predic1.iloc[:,1]\n",
    "y_pred2=predic2.iloc[:,1]\n",
    "\n",
    "gold1=gold.iloc[0,:]\n",
    "gold1=gold1.values\n",
    "\n",
    "gold2=gold.iloc[1,:]\n",
    "gold2=gold2.values\n",
    "\n",
    "mse1=mean_squared_error(y_pred1, np.transpose(gold1))\n",
    "rmse1=sqrt(mse1)\n",
    "print(str(rmse1)+' Ridge Regression Training error 1')\n",
    "\n",
    "mse2=mean_squared_error(y_pred2,np.transpose(gold2))\n",
    "rmse2=sqrt(mse2)\n",
    "print(str(rmse2)+' Ridge Regression Training error 2')"
   ]
  },
  {
   "cell_type": "code",
   "execution_count": 9,
   "metadata": {},
   "outputs": [
    {
     "name": "stdout",
     "output_type": "stream",
     "text": [
      "0.2832656550342472 SVM Regression Training error 1\n",
      "3.5849000751353532 SVM Regression Training error 2\n"
     ]
    }
   ],
   "source": [
    "predic1=pd.read_csv('/home/aaftab/Github/Computational-Systems-Biology-Project/DREAM5 SYSTEMS GENETICS CHALLENGE/PART B/SVMRegressionPredictions1.csv')\n",
    "predic2=pd.read_csv('/home/aaftab/Github/Computational-Systems-Biology-Project/DREAM5 SYSTEMS GENETICS CHALLENGE/PART B/SVMRegressionPredictions2.csv')\n",
    "\n",
    "\n",
    "import math\n",
    "from math import sqrt\n",
    "from sklearn.metrics import mean_squared_error\n",
    "\n",
    "y_pred1=predic1.iloc[:,1]\n",
    "y_pred2=predic2.iloc[:,1]\n",
    "\n",
    "gold1=gold.iloc[0,:]\n",
    "gold1=gold1.values\n",
    "\n",
    "gold2=gold.iloc[1,:]\n",
    "gold2=gold2.values\n",
    "\n",
    "mse1=mean_squared_error(y_pred1, np.transpose(gold1))\n",
    "rmse1=sqrt(mse1)\n",
    "print(str(rmse1)+' SVM Regression Training error 1')\n",
    "\n",
    "mse2=mean_squared_error(y_pred2,np.transpose(gold2))\n",
    "rmse2=sqrt(mse2)\n",
    "print(str(rmse2)+' SVM Regression Training error 2')"
   ]
  },
  {
   "cell_type": "code",
   "execution_count": 10,
   "metadata": {},
   "outputs": [
    {
     "name": "stdout",
     "output_type": "stream",
     "text": [
      "0.27531133138592767 Adaboost Regression Training error 1\n",
      "4.2478496483732595 Adaboost Regression Training error 2\n"
     ]
    }
   ],
   "source": [
    "predic1=pd.read_csv('/home/aaftab/Github/Computational-Systems-Biology-Project/DREAM5 SYSTEMS GENETICS CHALLENGE/PART B/AdaboostRegressionPredictions1.csv')\n",
    "predic2=pd.read_csv('/home/aaftab/Github/Computational-Systems-Biology-Project/DREAM5 SYSTEMS GENETICS CHALLENGE/PART B/AdaboostRegressionPredictions2.csv')\n",
    "\n",
    "\n",
    "import math\n",
    "from math import sqrt\n",
    "from sklearn.metrics import mean_squared_error\n",
    "\n",
    "y_pred1=predic1.iloc[:,1]\n",
    "y_pred2=predic2.iloc[:,1]\n",
    "\n",
    "gold1=gold.iloc[0,:]\n",
    "gold1=gold1.values\n",
    "\n",
    "gold2=gold.iloc[1,:]\n",
    "gold2=gold2.values\n",
    "\n",
    "mse1=mean_squared_error(y_pred1, np.transpose(gold1))\n",
    "rmse1=sqrt(mse1)\n",
    "print(str(rmse1)+' Adaboost Regression Training error 1')\n",
    "\n",
    "mse2=mean_squared_error(y_pred2,np.transpose(gold2))\n",
    "rmse2=sqrt(mse2)\n",
    "print(str(rmse2)+' Adaboost Regression Training error 2')"
   ]
  },
  {
   "cell_type": "code",
   "execution_count": 12,
   "metadata": {},
   "outputs": [
    {
     "name": "stdout",
     "output_type": "stream",
     "text": [
      "0.31384589898576837 Bagging Regression Training error 1\n",
      "4.019800395821912 Bagging Regression Training error 2\n"
     ]
    }
   ],
   "source": [
    "predic1=pd.read_csv('/home/aaftab/Github/Computational-Systems-Biology-Project/DREAM5 SYSTEMS GENETICS CHALLENGE/PART B/baggingRegressionPredictions1.csv')\n",
    "predic2=pd.read_csv('/home/aaftab/Github/Computational-Systems-Biology-Project/DREAM5 SYSTEMS GENETICS CHALLENGE/PART B/BaggingRegressionPredictions2.csv')\n",
    "\n",
    "\n",
    "import math\n",
    "from math import sqrt\n",
    "from sklearn.metrics import mean_squared_error\n",
    "\n",
    "y_pred1=predic1.iloc[:,1]\n",
    "y_pred2=predic2.iloc[:,1]\n",
    "\n",
    "gold1=gold.iloc[0,:]\n",
    "gold1=gold1.values\n",
    "\n",
    "gold2=gold.iloc[1,:]\n",
    "gold2=gold2.values\n",
    "\n",
    "mse1=mean_squared_error(y_pred1, np.transpose(gold1))\n",
    "rmse1=sqrt(mse1)\n",
    "print(str(rmse1)+' Bagging Regression Training error 1')\n",
    "\n",
    "mse2=mean_squared_error(y_pred2,np.transpose(gold2))\n",
    "rmse2=sqrt(mse2)\n",
    "print(str(rmse2)+' Bagging Regression Training error 2')"
   ]
  },
  {
   "cell_type": "code",
   "execution_count": 13,
   "metadata": {},
   "outputs": [
    {
     "name": "stdout",
     "output_type": "stream",
     "text": [
      "0.3423677338383204 GBM Regression Training error 1\n",
      "3.9575216224286285 GBM Regression Training error 2\n"
     ]
    }
   ],
   "source": [
    "predic1=pd.read_csv('/home/aaftab/Github/Computational-Systems-Biology-Project/DREAM5 SYSTEMS GENETICS CHALLENGE/PART B/GBMRegressionPredictions1.csv')\n",
    "predic2=pd.read_csv('/home/aaftab/Github/Computational-Systems-Biology-Project/DREAM5 SYSTEMS GENETICS CHALLENGE/PART B/GBMRegressionPredictions2.csv')\n",
    "\n",
    "\n",
    "import math\n",
    "from math import sqrt\n",
    "from sklearn.metrics import mean_squared_error\n",
    "\n",
    "y_pred1=predic1.iloc[:,1]\n",
    "y_pred2=predic2.iloc[:,1]\n",
    "\n",
    "gold1=gold.iloc[0,:]\n",
    "gold1=gold1.values\n",
    "\n",
    "gold2=gold.iloc[1,:]\n",
    "gold2=gold2.values\n",
    "\n",
    "mse1=mean_squared_error(y_pred1, np.transpose(gold1))\n",
    "rmse1=sqrt(mse1)\n",
    "print(str(rmse1)+' GBM Regression Training error 1')\n",
    "\n",
    "mse2=mean_squared_error(y_pred2,np.transpose(gold2))\n",
    "rmse2=sqrt(mse2)\n",
    "print(str(rmse2)+' GBM Regression Training error 2')"
   ]
  },
  {
   "cell_type": "code",
   "execution_count": 14,
   "metadata": {},
   "outputs": [
    {
     "name": "stdout",
     "output_type": "stream",
     "text": [
      "0.3074440808092632 Voting Regression Training error 1\n",
      "4.182632494255263 Voting Regression Training error 2\n"
     ]
    }
   ],
   "source": [
    "predic1=pd.read_csv('/home/aaftab/Github/Computational-Systems-Biology-Project/DREAM5 SYSTEMS GENETICS CHALLENGE/PART B/VotingRegressionPredictions1.csv')\n",
    "predic2=pd.read_csv('/home/aaftab/Github/Computational-Systems-Biology-Project/DREAM5 SYSTEMS GENETICS CHALLENGE/PART B/VotingRegressionPredictions2.csv')\n",
    "\n",
    "\n",
    "import math\n",
    "from math import sqrt\n",
    "from sklearn.metrics import mean_squared_error\n",
    "\n",
    "y_pred1=predic1.iloc[:,1]\n",
    "y_pred2=predic2.iloc[:,1]\n",
    "\n",
    "gold1=gold.iloc[0,:]\n",
    "gold1=gold1.values\n",
    "\n",
    "gold2=gold.iloc[1,:]\n",
    "gold2=gold2.values\n",
    "\n",
    "mse1=mean_squared_error(y_pred1, np.transpose(gold1))\n",
    "rmse1=sqrt(mse1)\n",
    "print(str(rmse1)+' Voting Regression Training error 1')\n",
    "\n",
    "mse2=mean_squared_error(y_pred2,np.transpose(gold2))\n",
    "rmse2=sqrt(mse2)\n",
    "print(str(rmse2)+' Voting Regression Training error 2')"
   ]
  },
  {
   "cell_type": "code",
   "execution_count": 15,
   "metadata": {},
   "outputs": [
    {
     "name": "stdout",
     "output_type": "stream",
     "text": [
      "0.33864775856390933 GBMVoting Regression Training error 1\n",
      "3.953568872975451 GBMVoting Regression Training error 2\n"
     ]
    }
   ],
   "source": [
    "predic1=pd.read_csv('/home/aaftab/Github/Computational-Systems-Biology-Project/DREAM5 SYSTEMS GENETICS CHALLENGE/PART B/GBMVotingRegressionPredictions1.csv')\n",
    "predic2=pd.read_csv('/home/aaftab/Github/Computational-Systems-Biology-Project/DREAM5 SYSTEMS GENETICS CHALLENGE/PART B/GBMVotingRegressionPredictions2.csv')\n",
    "\n",
    "\n",
    "import math\n",
    "from math import sqrt\n",
    "from sklearn.metrics import mean_squared_error\n",
    "\n",
    "y_pred1=predic1.iloc[:,1]\n",
    "y_pred2=predic2.iloc[:,1]\n",
    "\n",
    "gold1=gold.iloc[0,:]\n",
    "gold1=gold1.values\n",
    "\n",
    "gold2=gold.iloc[1,:]\n",
    "gold2=gold2.values\n",
    "\n",
    "mse1=mean_squared_error(y_pred1, np.transpose(gold1))\n",
    "rmse1=sqrt(mse1)\n",
    "print(str(rmse1)+' GBMVoting Regression Training error 1')\n",
    "\n",
    "mse2=mean_squared_error(y_pred2,np.transpose(gold2))\n",
    "rmse2=sqrt(mse2)\n",
    "print(str(rmse2)+' GBMVoting Regression Training error 2')"
   ]
  },
  {
   "cell_type": "code",
   "execution_count": 16,
   "metadata": {},
   "outputs": [
    {
     "name": "stdout",
     "output_type": "stream",
     "text": [
      "0.2860115002273201 Catboost Regression Training error 1\n",
      "3.615603936047755 Catboost Regression Training error 2\n"
     ]
    }
   ],
   "source": [
    "predic1=pd.read_csv('/home/aaftab/Github/Computational-Systems-Biology-Project/DREAM5 SYSTEMS GENETICS CHALLENGE/PART B/CatboostRegressionPredictions1.csv')\n",
    "predic2=pd.read_csv('/home/aaftab/Github/Computational-Systems-Biology-Project/DREAM5 SYSTEMS GENETICS CHALLENGE/PART B/CatboostRegressionPredictions2.csv')\n",
    "\n",
    "\n",
    "import math\n",
    "from math import sqrt\n",
    "from sklearn.metrics import mean_squared_error\n",
    "\n",
    "y_pred1=predic1.iloc[:,1]\n",
    "y_pred2=predic2.iloc[:,1]\n",
    "\n",
    "gold1=gold.iloc[0,:]\n",
    "gold1=gold1.values\n",
    "\n",
    "gold2=gold.iloc[1,:]\n",
    "gold2=gold2.values\n",
    "\n",
    "mse1=mean_squared_error(y_pred1, np.transpose(gold1))\n",
    "rmse1=sqrt(mse1)\n",
    "print(str(rmse1)+' Catboost Regression Training error 1')\n",
    "\n",
    "mse2=mean_squared_error(y_pred2,np.transpose(gold2))\n",
    "rmse2=sqrt(mse2)\n",
    "print(str(rmse2)+' Catboost Regression Training error 2')"
   ]
  },
  {
   "cell_type": "code",
   "execution_count": null,
   "metadata": {},
   "outputs": [],
   "source": []
  }
 ],
 "metadata": {
  "kernelspec": {
   "display_name": "Python 3",
   "language": "python",
   "name": "python3"
  },
  "language_info": {
   "codemirror_mode": {
    "name": "ipython",
    "version": 3
   },
   "file_extension": ".py",
   "mimetype": "text/x-python",
   "name": "python",
   "nbconvert_exporter": "python",
   "pygments_lexer": "ipython3",
   "version": "3.7.4"
  }
 },
 "nbformat": 4,
 "nbformat_minor": 4
}
