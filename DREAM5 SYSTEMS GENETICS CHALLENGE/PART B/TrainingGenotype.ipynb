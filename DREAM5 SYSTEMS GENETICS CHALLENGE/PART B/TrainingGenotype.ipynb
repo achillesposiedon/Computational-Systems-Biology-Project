{
 "cells": [
  {
   "cell_type": "code",
   "execution_count": 1,
   "metadata": {},
   "outputs": [],
   "source": [
    "import pandas as pd\n",
    "import numpy as np\n",
    "\n",
    "trdt=pd.read_csv('/home/aaftab/Github/Computational-Systems-Biology-Project/DREAM5 SYSTEMS GENETICS CHALLENGE/PART B/TrainingGenotype.csv')\n",
    "tstdt=pd.read_csv('/home/aaftab/Github/Computational-Systems-Biology-Project/DREAM5 SYSTEMS GENETICS CHALLENGE/PART B/TestingGenotype.csv')"
   ]
  },
  {
   "cell_type": "code",
   "execution_count": 3,
   "metadata": {
    "scrolled": true
   },
   "outputs": [
    {
     "name": "stdout",
     "output_type": "stream",
     "text": [
      "  Plant  A  A.1  A.2  A.3  A.4  A.5  A.6  A.7  A.8  ...  A.933  A.934  A.935  \\\n",
      "0  RIL1  1    1    1    1    1    1    1    1    1  ...      1      1      1   \n",
      "1  RIL2  0    0    0    0    0    0    0    0    0  ...      0      1      1   \n",
      "2  RIL3  1    1    1    1    1    1    1    1    1  ...      1      1      1   \n",
      "3  RIL4  1    1    1    1    1    1    1    1    1  ...      1      1      1   \n",
      "4  RIL5  0    0    0    1    1    0    1    1    1  ...      0      1      0   \n",
      "\n",
      "   A.936  A.937  A.938  A.939  A.940  Phenotype1  Phenotype2  \n",
      "0      0      0      0      0      0       1.789     27.1880  \n",
      "1      1      1      1      1      1       1.713     28.4745  \n",
      "2      1      1      1      1      1       1.678     31.4005  \n",
      "3      1      1      1      1      1       2.187     23.4160  \n",
      "4      0      0      0      0      1       3.129     15.7990  \n",
      "\n",
      "[5 rows x 944 columns]\n",
      "Number of columns is 944\n",
      "Number of rows is 200\n",
      "int64      941\n",
      "float64      2\n",
      "object       1\n",
      "dtype: int64\n",
      "The categorical column Plant has 200 unique ids \n"
     ]
    }
   ],
   "source": [
    "def basicvisualisation(df): \n",
    "        #function for basic visualistaion gives number of columns,number of rows,first 5 rows of dataset,number of columns with each type dtypes\n",
    "       \n",
    "        s=df\n",
    "        s.ncol=len(s.columns)\n",
    "        s.nrows=len(s)\n",
    "        \n",
    "        print(s.head(5))\n",
    "        \n",
    "        print('Number of columns is '+ str(s.ncol))\n",
    "        print('Number of rows is '+ str(s.nrows))\n",
    "        \n",
    "        print(s.dtypes.value_counts()) #prints number of columns of each datatype\n",
    "        \n",
    "        if s.ncol<10: # print all column names only if number of columns is less than 10, to keep it neat\n",
    "            print('Column names are '+s.columns)\n",
    "         #unique ids in categorical column\n",
    "        categoricalcolumns=s.select_dtypes(include=['object']).columns\n",
    "        for i in categoricalcolumns:\n",
    "            print('The categorical column '+str(i)+' has '+str(len(s[str(i)].unique()))+' unique ids ')\n",
    "\n",
    "basicvisualisation(trdt)"
   ]
  },
  {
   "cell_type": "code",
   "execution_count": 4,
   "metadata": {},
   "outputs": [
    {
     "name": "stdout",
     "output_type": "stream",
     "text": [
      "  Plant  A  A.1  A.2  A.3  A.4  A.5  A.6  A.7  A.8  ...  A.931  A.932  A.933  \\\n",
      "0  RIL1  0    0    0    0    0    0    1    1    1  ...      1      1      1   \n",
      "1  RIL2  0    0    0    0    0    1    0    0    0  ...      0      1      1   \n",
      "2  RIL3  1    1    1    1    1    1    1    1    1  ...      0      0      0   \n",
      "3  RIL4  1    1    1    1    1    1    1    1    1  ...      1      1      1   \n",
      "4  RIL5  1    1    1    1    1    1    1    1    1  ...      0      0      0   \n",
      "\n",
      "   A.934  A.935  A.936  A.937  A.938  A.939  A.940  \n",
      "0      1      1      0      0      0      0      0  \n",
      "1      0      1      1      1      1      1      1  \n",
      "2      0      0      0      0      0      0      0  \n",
      "3      1      1      1      1      1      1      1  \n",
      "4      1      1      0      0      0      0      0  \n",
      "\n",
      "[5 rows x 942 columns]\n",
      "Number of columns is 942\n",
      "Number of rows is 30\n",
      "int64     941\n",
      "object      1\n",
      "dtype: int64\n",
      "The categorical column Plant has 30 unique ids \n"
     ]
    }
   ],
   "source": [
    "basicvisualisation(tstdt)"
   ]
  },
  {
   "cell_type": "code",
   "execution_count": 5,
   "metadata": {},
   "outputs": [],
   "source": [
    "corrph1=pd.DataFrame(trdt.corr().iloc[:-2,-2])"
   ]
  },
  {
   "cell_type": "code",
   "execution_count": 5,
   "metadata": {},
   "outputs": [],
   "source": [
    "corrph1.to_csv('ph1corr.csv')"
   ]
  },
  {
   "cell_type": "code",
   "execution_count": 6,
   "metadata": {},
   "outputs": [],
   "source": [
    "corrph2=pd.DataFrame(tstdt.corr().iloc[:-1,-1])\n",
    "corrph2.to_csv('ph2corr.csv')"
   ]
  },
  {
   "cell_type": "markdown",
   "metadata": {},
   "source": [
    "Ph1corr best correlations\n",
    "# A.784\t-0.144079670396511\n",
    "A.776\t-0.143997603353291\n",
    "A.538\t-0.137274965276636\n",
    "A.794\t-0.124181122656149\n",
    "A.238\t-0.124013514035448\n",
    "A.643\t-0.121111883792516\n",
    "A.806\t-0.120974988740976\n",
    "A.537\t-0.120735043758695\n",
    "0.153876268741056\n",
    "0.154273007006875\n",
    "0.154912996140595\n",
    "0.155228744979671\n",
    "0.155522187830318\n",
    "0.156571706153193\n",
    "0.156596191156178\n",
    "0.158566661278473\n",
    "0.159097713794466\n",
    "0.1604244332026\n",
    "0.161314798961133\n",
    "0.162612701422485\n",
    "0.164120394867529\n",
    "0.164618699453769\n",
    "0.165601971115578\n",
    "0.165964205508251\n",
    "0.167995813747302\n",
    "0.168403148823879\n",
    "0.171658598262882\n",
    "0.174931041519812\n",
    "0.177386080032505\n",
    "0.179654774899088\n",
    "0.187014806365926\n",
    "0.190068338747164\n",
    "0.19104248187356\n",
    "0.191758245365678\n",
    "0.199414164215195\n",
    "0.204069326541585\n",
    "0.205427305459395\n",
    "0.206136217373427\n",
    "0.212175438702056\n",
    "0.215494660078972\n"
   ]
  },
  {
   "cell_type": "markdown",
   "metadata": {},
   "source": [
    "Ph2 Corr best\n",
    "# A.1\t-0.590927826341697\n",
    "A.6\t-0.573092246651065\n",
    "A.7\t-0.573092246651065\n",
    "A.8\t-0.573092246651065\n",
    "A\t-0.536118553318739\n",
    "A.2\t-0.536118553318739\n",
    "A.3\t-0.536118553318739\n",
    "A.4\t-0.536118553318739\n",
    "A.10\t-0.48006512051617\n",
    "A.72\t-0.45133857602476\n",
    "A.166\t-0.45133857602476\n",
    "A.9\t-0.435406698564593\n",
    "A.5\t-0.43444089665484\n",
    "A.164\t-0.43444089665484\n",
    "0.43444089665484\n",
    "0.45133857602476\n",
    "0.45133857602476\n",
    "0.479687443547538\n",
    "0.484200124706252\n",
    "0.484200124706252\n",
    "0.484200124706253\n",
    "0.484200124706253\n",
    "0.484200124706253\n",
    "0.484200124706253\n",
    "0.508304245252414\n",
    "0.590927826341696\n",
    "0.590927826341697\n",
    "0.931891116296093\n",
    "1\n",
    "1\n",
    "1\n"
   ]
  },
  {
   "cell_type": "code",
   "execution_count": 7,
   "metadata": {},
   "outputs": [],
   "source": [
    "corrph2=pd.DataFrame(trdt.corr().iloc[:-1,-1])\n",
    "corrph2.to_csv('ph3corr.csv')"
   ]
  },
  {
   "cell_type": "markdown",
   "metadata": {},
   "source": [
    "# Phenotype1\t-0.641408284505818\n",
    "A.214\t-0.243332438040548\n",
    "A.210\t-0.226137752465888\n",
    "A.211\t-0.219809844620297\n",
    "A.47\t-0.2181386370664\n",
    "A.46\t-0.217975456861102\n",
    "A.212\t-0.215038357046347\n",
    "A.215\t-0.207619755677218\n",
    "A.216\t-0.207029866311596\n",
    "A.40\t-0.200280689151531\n",
    "A.519\t0.15196862876739\n",
    "A.526\t0.152555132849401\n",
    "A.253\t0.153016463458149\n",
    "A.536\t0.15473694028659\n",
    "A.249\t0.155010751305051\n",
    "A.528\t0.156509130217447\n",
    "A.518\t0.158300149104228\n",
    "A.240\t0.158342066268495\n",
    "A.246\t0.166759204430035\n",
    "A.538\t0.166867379166661\n",
    "A.241\t0.170268080907501\n",
    "A.258\t0.17037631409322\n",
    "A.238\t0.171316423029323\n",
    "A.537\t0.171889267955443\n",
    "A.239\t0.174424211021624\n",
    "A.245\t0.177817173836627\n",
    "A.529\t0.179184507333562\n",
    "A.244\t0.181706752276457\n",
    "A.243\t0.182074008326973\n"
   ]
  },
  {
   "cell_type": "code",
   "execution_count": 9,
   "metadata": {},
   "outputs": [],
   "source": [
    "features=trdt.copy()\n",
    "\n",
    "features.drop('Phenotype1',axis=1,inplace=True)\n",
    "features.drop('Phenotype2',axis=1,inplace=True)\n",
    "features.drop('Plant',axis=1,inplace=True)\n",
    "\n",
    "\n",
    "testfeatures=tstdt.copy()\n",
    "testfeatures.drop('Plant',axis=1,inplace=True)\n",
    "\n",
    "results1=trdt['Phenotype1']\n",
    "results2=trdt['Phenotype2']\n",
    "\n",
    "from sklearn import preprocessing\n",
    "standard= preprocessing.StandardScaler()\n",
    "\n",
    "features = standard.fit_transform(features)\n",
    "testfeatures=standard.fit_transform(testfeatures)\n",
    "\n",
    "features=pd.DataFrame(features)\n",
    "testfeatures=pd.DataFrame(testfeatures)"
   ]
  },
  {
   "cell_type": "code",
   "execution_count": 13,
   "metadata": {},
   "outputs": [],
   "source": [
    "from sklearn import linear_model\n",
    "\n",
    "lmr1 = linear_model.LinearRegression()\n",
    "modellr1 = lmr1.fit(features,results1)\n",
    "\n",
    "predictions1 = modellr1.predict(testfeatures)\n",
    "pred1=pd.DataFrame(predictions1)\n",
    "        \n",
    "pred1.to_csv('LinearRegressionPredictions1.csv')\n",
    "\n",
    "\n",
    "lmr2 = linear_model.LinearRegression()\n",
    "modellr2 = lmr2.fit(features,results2)\n",
    "\n",
    "predictions2 = modellr2.predict(testfeatures)\n",
    "pred2=pd.DataFrame(predictions2)\n",
    "        \n",
    "pred2.to_csv('LinearRegressionPredictions2.csv')\n"
   ]
  },
  {
   "cell_type": "code",
   "execution_count": 7,
   "metadata": {},
   "outputs": [
    {
     "name": "stdout",
     "output_type": "stream",
     "text": [
      "      RIL1     RIL2     RIL3     RIL4     RIL5    RIL6     RIL7     RIL8  \\\n",
      "0   2.1175   2.5510   2.2345   2.4085   1.9030   2.190   2.1430   1.9910   \n",
      "1  21.5955  11.6705  18.5815  12.6875  20.4295  19.364  20.1775  21.6465   \n",
      "\n",
      "      RIL9    RIL10  ...    RIL21   RIL22    RIL23    RIL24    RIL25    RIL26  \\\n",
      "0   1.8680   1.8425  ...   2.1775   2.108   1.8205   2.8285   2.0985   1.8045   \n",
      "1  18.1665  22.2695  ...  21.2765  18.289  21.0680  16.3610  21.3870  21.9440   \n",
      "\n",
      "     RIL27    RIL28    RIL29    RIL30  \n",
      "0   2.0545   1.9975   1.9470   1.9060  \n",
      "1  21.3750  20.3695  24.6965  23.2345  \n",
      "\n",
      "[2 rows x 30 columns]\n"
     ]
    }
   ],
   "source": [
    "predic1=pd.read_csv('/home/aaftab/Github/Computational-Systems-Biology-Project/DREAM5 SYSTEMS GENETICS CHALLENGE/PART B/LinearRegressionPredictions1.csv')\n",
    "predic2=pd.read_csv('/home/aaftab/Github/Computational-Systems-Biology-Project/DREAM5 SYSTEMS GENETICS CHALLENGE/PART B/LinearRegressionPredictions2.csv')\n",
    "\n",
    "gold=pd.read_csv('/home/aaftab/Github/Computational-Systems-Biology-Project/DREAM5 SYSTEMS GENETICS CHALLENGE/PART B/DREAM5_SysGenB_GoldStandard/DREAM5_SysGenB1_GoldStandard.csv', sep='\\t')\n",
    "gold.drop(gold.columns[-1],axis=1,inplace=True)\n",
    "print(gold)"
   ]
  },
  {
   "cell_type": "code",
   "execution_count": 8,
   "metadata": {},
   "outputs": [
    {
     "name": "stdout",
     "output_type": "stream",
     "text": [
      "0.5009995137090918Training error 1\n",
      "5.424376668837783Training error 2\n"
     ]
    }
   ],
   "source": [
    "import math\n",
    "from math import sqrt\n",
    "from sklearn.metrics import mean_squared_error\n",
    "\n",
    "y_pred1=predic1.iloc[:,1]\n",
    "y_pred2=predic2.iloc[:,1]\n",
    "\n",
    "gold1=gold.iloc[0,:]\n",
    "gold1=gold1.values\n",
    "\n",
    "gold2=gold.iloc[1,:]\n",
    "gold2=gold2.values\n",
    "\n",
    "mse1=mean_squared_error(y_pred1, np.transpose(gold1))\n",
    "rmse1=sqrt(mse1)\n",
    "print(str(rmse1)+'Training error 1')\n",
    "\n",
    "mse2=mean_squared_error(y_pred2,np.transpose(gold2))\n",
    "rmse2=sqrt(mse2)\n",
    "print(str(rmse2)+'Training error 2')"
   ]
  },
  {
   "cell_type": "code",
   "execution_count": null,
   "metadata": {},
   "outputs": [],
   "source": []
  }
 ],
 "metadata": {
  "kernelspec": {
   "display_name": "Python 3",
   "language": "python",
   "name": "python3"
  },
  "language_info": {
   "codemirror_mode": {
    "name": "ipython",
    "version": 3
   },
   "file_extension": ".py",
   "mimetype": "text/x-python",
   "name": "python",
   "nbconvert_exporter": "python",
   "pygments_lexer": "ipython3",
   "version": "3.7.4"
  }
 },
 "nbformat": 4,
 "nbformat_minor": 2
}
